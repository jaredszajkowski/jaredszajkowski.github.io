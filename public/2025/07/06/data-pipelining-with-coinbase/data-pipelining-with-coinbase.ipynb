{
 "cells": [
  {
   "cell_type": "markdown",
   "id": "307fa821",
   "metadata": {},
   "source": [
    "# Data Pipelining With Coinbase"
   ]
  },
  {
   "cell_type": "markdown",
   "id": "547ce63e",
   "metadata": {},
   "source": [
    "## Python Imports"
   ]
  },
  {
   "cell_type": "code",
   "execution_count": 1,
   "id": "72a6dbc5",
   "metadata": {
    "execution": {
     "iopub.execute_input": "2025-08-22T00:08:01.936415Z",
     "iopub.status.busy": "2025-08-22T00:08:01.936227Z",
     "iopub.status.idle": "2025-08-22T00:08:03.636614Z",
     "shell.execute_reply": "2025-08-22T00:08:03.631650Z"
    }
   },
   "outputs": [],
   "source": [
    "# Standard Library\n",
    "import datetime\n",
    "import io\n",
    "import os\n",
    "import random\n",
    "import sys\n",
    "import warnings\n",
    "\n",
    "from datetime import datetime, timedelta\n",
    "from pathlib import Path\n",
    "\n",
    "# Data Handling\n",
    "import numpy as np\n",
    "import pandas as pd\n",
    "\n",
    "# Data Visualization\n",
    "import matplotlib.dates as mdates\n",
    "import matplotlib.pyplot as plt\n",
    "import matplotlib.ticker as mtick\n",
    "import seaborn as sns\n",
    "from matplotlib.ticker import FormatStrFormatter, FuncFormatter, MultipleLocator\n",
    "\n",
    "# Data Sources\n",
    "import yfinance as yf\n",
    "\n",
    "# Statistical Analysis\n",
    "import statsmodels.api as sm\n",
    "\n",
    "# Machine Learning\n",
    "from sklearn.decomposition import PCA\n",
    "from sklearn.preprocessing import StandardScaler\n",
    "\n",
    "# Suppress warnings\n",
    "warnings.filterwarnings(\"ignore\")"
   ]
  },
  {
   "cell_type": "markdown",
   "id": "b5d3911f",
   "metadata": {},
   "source": [
    "## Add Directories To Path"
   ]
  },
  {
   "cell_type": "code",
   "execution_count": 2,
   "id": "eaed08fd",
   "metadata": {
    "execution": {
     "iopub.execute_input": "2025-08-22T00:08:03.643851Z",
     "iopub.status.busy": "2025-08-22T00:08:03.643294Z",
     "iopub.status.idle": "2025-08-22T00:08:03.670082Z",
     "shell.execute_reply": "2025-08-22T00:08:03.665702Z"
    }
   },
   "outputs": [
    {
     "name": "stdout",
     "output_type": "stream",
     "text": [
      "0: /usr/lib/python313.zip\n",
      "1: /usr/lib/python3.13\n",
      "2: /usr/lib/python3.13/lib-dynload\n",
      "3: \n",
      "4: /home/jared/python-virtual-envs/general_313/lib/python3.13/site-packages\n",
      "5: /home/jared/Cloud_Storage/Dropbox/Websites/jaredszajkowski.github.io/src\n"
     ]
    }
   ],
   "source": [
    "# Add the source subdirectory to the system path to allow import config from settings.py\n",
    "current_directory = Path(os.getcwd())\n",
    "website_base_directory = current_directory.parent.parent.parent\n",
    "src_directory = website_base_directory / \"src\"\n",
    "sys.path.append(str(src_directory)) if str(src_directory) not in sys.path else None\n",
    "\n",
    "# Import settings.py\n",
    "from settings import config\n",
    "\n",
    "# Add configured directories from config to path\n",
    "SOURCE_DIR = config(\"SOURCE_DIR\")\n",
    "sys.path.append(str(Path(SOURCE_DIR))) if str(Path(SOURCE_DIR)) not in sys.path else None\n",
    "\n",
    "# Add other configured directories\n",
    "BASE_DIR = config(\"BASE_DIR\")\n",
    "CONTENT_DIR = config(\"CONTENT_DIR\")\n",
    "POSTS_DIR = config(\"POSTS_DIR\")\n",
    "PAGES_DIR = config(\"PAGES_DIR\")\n",
    "PUBLIC_DIR = config(\"PUBLIC_DIR\")\n",
    "SOURCE_DIR = config(\"SOURCE_DIR\")\n",
    "DATA_DIR = config(\"DATA_DIR\")\n",
    "DATA_MANUAL_DIR = config(\"DATA_MANUAL_DIR\")\n",
    "\n",
    "# Print system path\n",
    "for i, path in enumerate(sys.path):\n",
    "    print(f\"{i}: {path}\")"
   ]
  },
  {
   "cell_type": "markdown",
   "id": "bfcc2cb6",
   "metadata": {},
   "source": [
    "## Track Index Dependencies"
   ]
  },
  {
   "cell_type": "code",
   "execution_count": 3,
   "id": "273bf49c",
   "metadata": {
    "execution": {
     "iopub.execute_input": "2025-08-22T00:08:03.674551Z",
     "iopub.status.busy": "2025-08-22T00:08:03.673214Z",
     "iopub.status.idle": "2025-08-22T00:08:03.693976Z",
     "shell.execute_reply": "2025-08-22T00:08:03.692218Z"
    }
   },
   "outputs": [
    {
     "data": {
      "text/plain": [
       "0"
      ]
     },
     "execution_count": 3,
     "metadata": {},
     "output_type": "execute_result"
    }
   ],
   "source": [
    "# Create file to track markdown dependencies\n",
    "dep_file = Path(\"index_dep.txt\")\n",
    "dep_file.write_text(\"\")"
   ]
  },
  {
   "cell_type": "markdown",
   "id": "cb0b2cef",
   "metadata": {},
   "source": [
    "## Python Functions"
   ]
  },
  {
   "cell_type": "code",
   "execution_count": 4,
   "id": "8db0f9f2",
   "metadata": {
    "execution": {
     "iopub.execute_input": "2025-08-22T00:08:03.699360Z",
     "iopub.status.busy": "2025-08-22T00:08:03.696986Z",
     "iopub.status.idle": "2025-08-22T00:08:03.705337Z",
     "shell.execute_reply": "2025-08-22T00:08:03.704859Z"
    }
   },
   "outputs": [],
   "source": [
    "from coinbase_fetch_available_products import coinbase_fetch_available_products\n",
    "from coinbase_fetch_full_history import coinbase_fetch_full_history\n",
    "from coinbase_fetch_historical_candles import coinbase_fetch_historical_candles\n",
    "from coinbase_pull_data import coinbase_pull_data\n",
    "from export_track_md_deps import export_track_md_deps"
   ]
  },
  {
   "cell_type": "markdown",
   "id": "3069fc09",
   "metadata": {},
   "source": [
    "## Function Usage"
   ]
  },
  {
   "cell_type": "markdown",
   "id": "6ca087e3-a9de-4714-8e69-a4fd9a9ac668",
   "metadata": {},
   "source": [
    "### Coinbase Fetch Available Products"
   ]
  },
  {
   "cell_type": "code",
   "execution_count": 5,
   "id": "d2677589",
   "metadata": {
    "execution": {
     "iopub.execute_input": "2025-08-22T00:08:03.708432Z",
     "iopub.status.busy": "2025-08-22T00:08:03.708050Z",
     "iopub.status.idle": "2025-08-22T00:08:03.783450Z",
     "shell.execute_reply": "2025-08-22T00:08:03.782996Z"
    }
   },
   "outputs": [],
   "source": [
    "df = coinbase_fetch_available_products(\n",
    "    base_currency=None,\n",
    "    quote_currency=\"USD\",\n",
    "    status=\"online\",\n",
    ")"
   ]
  },
  {
   "cell_type": "code",
   "execution_count": 6,
   "id": "b2295c04",
   "metadata": {
    "execution": {
     "iopub.execute_input": "2025-08-22T00:08:03.785584Z",
     "iopub.status.busy": "2025-08-22T00:08:03.785368Z",
     "iopub.status.idle": "2025-08-22T00:08:03.834574Z",
     "shell.execute_reply": "2025-08-22T00:08:03.833967Z"
    }
   },
   "outputs": [
    {
     "name": "stdout",
     "output_type": "stream",
     "text": [
      "✅ Exported and tracked: coinbase_fetch_available_products.md\n"
     ]
    }
   ],
   "source": [
    "# Copy this <!-- INSERT_coinbase_fetch_available_products_HERE --> to index_temp.md\n",
    "export_track_md_deps(dep_file=dep_file, md_filename=\"coinbase_fetch_available_products.md\", content=df.to_markdown(floatfmt=\".5f\"))"
   ]
  },
  {
   "cell_type": "markdown",
   "id": "37ba22e6",
   "metadata": {},
   "source": [
    "### Coinbase Fetch Historical Candles"
   ]
  },
  {
   "cell_type": "code",
   "execution_count": 7,
   "id": "98caf842",
   "metadata": {
    "execution": {
     "iopub.execute_input": "2025-08-22T00:08:03.839113Z",
     "iopub.status.busy": "2025-08-22T00:08:03.838828Z",
     "iopub.status.idle": "2025-08-22T00:08:03.956415Z",
     "shell.execute_reply": "2025-08-22T00:08:03.955899Z"
    }
   },
   "outputs": [],
   "source": [
    "df = coinbase_fetch_historical_candles(\n",
    "    product_id=\"BTC-USD\",\n",
    "    start=datetime(2025, 1, 1),\n",
    "    end=datetime(2025, 1, 1),\n",
    "    granularity=86_400,\n",
    ")"
   ]
  },
  {
   "cell_type": "code",
   "execution_count": 8,
   "id": "72490633",
   "metadata": {
    "execution": {
     "iopub.execute_input": "2025-08-22T00:08:03.959128Z",
     "iopub.status.busy": "2025-08-22T00:08:03.958635Z",
     "iopub.status.idle": "2025-08-22T00:08:03.965668Z",
     "shell.execute_reply": "2025-08-22T00:08:03.964631Z"
    }
   },
   "outputs": [
    {
     "name": "stdout",
     "output_type": "stream",
     "text": [
      "✅ Exported and tracked: coinbase_fetch_historical_candles.md\n"
     ]
    }
   ],
   "source": [
    "# Copy this <!-- INSERT_coinbase_fetch_historical_candles_HERE --> to index_temp.md\n",
    "export_track_md_deps(dep_file=dep_file, md_filename=\"coinbase_fetch_historical_candles.md\", content=df.to_markdown(floatfmt=\".5f\"))"
   ]
  },
  {
   "cell_type": "markdown",
   "id": "035870c5",
   "metadata": {},
   "source": [
    "### Coinbase Fetch Full History"
   ]
  },
  {
   "cell_type": "code",
   "execution_count": 9,
   "id": "8121e09a",
   "metadata": {
    "execution": {
     "iopub.execute_input": "2025-08-22T00:08:03.967743Z",
     "iopub.status.busy": "2025-08-22T00:08:03.967409Z",
     "iopub.status.idle": "2025-08-22T00:08:04.265508Z",
     "shell.execute_reply": "2025-08-22T00:08:04.265002Z"
    }
   },
   "outputs": [],
   "source": [
    "df = coinbase_fetch_full_history(\n",
    "    product_id=\"BTC-USD\",\n",
    "    start=datetime(2025, 1, 1),\n",
    "    end=datetime(2025, 1, 31),\n",
    "    granularity=86_400,\n",
    ")"
   ]
  },
  {
   "cell_type": "code",
   "execution_count": 10,
   "id": "69ebae61",
   "metadata": {
    "execution": {
     "iopub.execute_input": "2025-08-22T00:08:04.267715Z",
     "iopub.status.busy": "2025-08-22T00:08:04.267465Z",
     "iopub.status.idle": "2025-08-22T00:08:04.275286Z",
     "shell.execute_reply": "2025-08-22T00:08:04.274342Z"
    }
   },
   "outputs": [
    {
     "name": "stdout",
     "output_type": "stream",
     "text": [
      "✅ Exported and tracked: coinbase_fetch_full_history.md\n"
     ]
    }
   ],
   "source": [
    "# Copy this <!-- INSERT_coinbase_fetch_full_history_HERE --> to index_temp.md\n",
    "export_track_md_deps(dep_file=dep_file, md_filename=\"coinbase_fetch_full_history.md\", content=df.to_markdown(floatfmt=\".5f\"))"
   ]
  },
  {
   "cell_type": "markdown",
   "id": "9ce2e265",
   "metadata": {},
   "source": [
    "### Coinbase Pull Data"
   ]
  },
  {
   "cell_type": "code",
   "execution_count": 11,
   "id": "b0aa739f",
   "metadata": {
    "execution": {
     "iopub.execute_input": "2025-08-22T00:08:04.277760Z",
     "iopub.status.busy": "2025-08-22T00:08:04.277429Z",
     "iopub.status.idle": "2025-08-22T00:08:04.281092Z",
     "shell.execute_reply": "2025-08-22T00:08:04.280443Z"
    }
   },
   "outputs": [],
   "source": [
    "# df = coinbase_pull_data(\n",
    "#     base_directory=DATA_DIR,\n",
    "#     source=\"Coinbase\",\n",
    "#     asset_class=\"Cryptocurrencies\",\n",
    "#     excel_export=False,\n",
    "#     pickle_export=True,\n",
    "#     output_confirmation=True,\n",
    "#     base_currency=\"BTC\",\n",
    "#     quote_currency=\"USD\",\n",
    "#     granularity=60, # 60=minute, 3600=hourly, 86400=daily\n",
    "#     status='online', # default status is 'online'\n",
    "#     start_date=datetime(current_year, current_month - 1, 1), # default start date\n",
    "#     end_date=datetime.now() - timedelta(days=1), # updates data through 1 day ago due to lag in data availability\n",
    "# )"
   ]
  },
  {
   "cell_type": "code",
   "execution_count": null,
   "id": "6dab5d9d",
   "metadata": {},
   "outputs": [],
   "source": []
  }
 ],
 "metadata": {
  "kernelspec": {
   "display_name": "general_313",
   "language": "python",
   "name": "python3"
  },
  "language_info": {
   "codemirror_mode": {
    "name": "ipython",
    "version": 3
   },
   "file_extension": ".py",
   "mimetype": "text/x-python",
   "name": "python",
   "nbconvert_exporter": "python",
   "pygments_lexer": "ipython3",
   "version": "3.13.5"
  }
 },
 "nbformat": 4,
 "nbformat_minor": 5
}
