{
 "cells": [
  {
   "cell_type": "markdown",
   "id": "307fa821",
   "metadata": {},
   "source": [
    "# Reusable And Extensible Python Functions For Financial Data Analysis"
   ]
  },
  {
   "cell_type": "markdown",
   "id": "547ce63e",
   "metadata": {},
   "source": [
    "## Python Imports"
   ]
  },
  {
   "cell_type": "code",
   "execution_count": 1,
   "id": "72a6dbc5",
   "metadata": {
    "execution": {
     "iopub.execute_input": "2025-06-05T03:50:48.188117Z",
     "iopub.status.busy": "2025-06-05T03:50:48.187424Z",
     "iopub.status.idle": "2025-06-05T03:50:50.567388Z",
     "shell.execute_reply": "2025-06-05T03:50:50.566504Z"
    }
   },
   "outputs": [],
   "source": [
    "# Standard Library\n",
    "import datetime\n",
    "import io\n",
    "import os\n",
    "import random\n",
    "import sys\n",
    "import warnings\n",
    "\n",
    "from datetime import datetime, timedelta\n",
    "from pathlib import Path\n",
    "\n",
    "# Data Handling\n",
    "import numpy as np\n",
    "import pandas as pd\n",
    "\n",
    "# Data Visualization\n",
    "import matplotlib.dates as mdates\n",
    "import matplotlib.pyplot as plt\n",
    "import matplotlib.ticker as mtick\n",
    "import seaborn as sns\n",
    "from matplotlib.ticker import FormatStrFormatter, FuncFormatter, MultipleLocator\n",
    "\n",
    "# Data Sources\n",
    "import yfinance as yf\n",
    "\n",
    "# Statistical Analysis\n",
    "import statsmodels.api as sm\n",
    "\n",
    "# Machine Learning\n",
    "from sklearn.decomposition import PCA\n",
    "from sklearn.preprocessing import StandardScaler\n",
    "\n",
    "# Suppress warnings\n",
    "warnings.filterwarnings(\"ignore\")"
   ]
  },
  {
   "cell_type": "markdown",
   "id": "b5d3911f",
   "metadata": {},
   "source": [
    "## Add Directories To Path"
   ]
  },
  {
   "cell_type": "code",
   "execution_count": 2,
   "id": "eaed08fd",
   "metadata": {
    "execution": {
     "iopub.execute_input": "2025-06-05T03:50:50.570727Z",
     "iopub.status.busy": "2025-06-05T03:50:50.570043Z",
     "iopub.status.idle": "2025-06-05T03:50:50.582022Z",
     "shell.execute_reply": "2025-06-05T03:50:50.581178Z"
    }
   },
   "outputs": [
    {
     "name": "stdout",
     "output_type": "stream",
     "text": [
      "0: /usr/lib/python313.zip\n",
      "1: /usr/lib/python3.13\n",
      "2: /usr/lib/python3.13/lib-dynload\n",
      "3: \n",
      "4: /home/jared/python-virtual-envs/general_313/lib/python3.13/site-packages\n",
      "5: /home/jared/Cloud_Storage/Dropbox/Websites/jaredszajkowski.github.io/src\n",
      "6: /home/jared/Cloud_Storage/Dropbox/Quant_Finance_Research\n",
      "7: /home/jared/Cloud_Storage/Dropbox/Quant_Finance_Research/src\n"
     ]
    }
   ],
   "source": [
    "# Add the source subdirectory to the system path to allow import config from settings.py\n",
    "current_directory = Path(os.getcwd())\n",
    "website_base_directory = current_directory.parent.parent.parent\n",
    "src_directory = website_base_directory / \"src\"\n",
    "sys.path.append(str(src_directory)) if str(src_directory) not in sys.path else None\n",
    "\n",
    "# Import settings.py\n",
    "from settings import config\n",
    "\n",
    "# Add configured directories from config to path\n",
    "SOURCE_DIR = config(\"SOURCE_DIR\")\n",
    "sys.path.append(str(Path(SOURCE_DIR))) if str(Path(SOURCE_DIR)) not in sys.path else None\n",
    "\n",
    "QUANT_FINANCE_RESEARCH_BASE_DIR = config(\"QUANT_FINANCE_RESEARCH_BASE_DIR\")\n",
    "sys.path.append(str(Path(QUANT_FINANCE_RESEARCH_BASE_DIR))) if str(Path(QUANT_FINANCE_RESEARCH_BASE_DIR)) not in sys.path else None\n",
    "\n",
    "QUANT_FINANCE_RESEARCH_SOURCE_DIR = config(\"QUANT_FINANCE_RESEARCH_SOURCE_DIR\")\n",
    "sys.path.append(str(Path(QUANT_FINANCE_RESEARCH_SOURCE_DIR))) if str(Path(QUANT_FINANCE_RESEARCH_SOURCE_DIR)) not in sys.path else None\n",
    "\n",
    "# Add other configured directories\n",
    "BASE_DIR = config(\"BASE_DIR\")\n",
    "CONTENT_DIR = config(\"CONTENT_DIR\")\n",
    "POSTS_DIR = config(\"POSTS_DIR\")\n",
    "PAGES_DIR = config(\"PAGES_DIR\")\n",
    "PUBLIC_DIR = config(\"PUBLIC_DIR\")\n",
    "SOURCE_DIR = config(\"SOURCE_DIR\")\n",
    "DATA_DIR = config(\"DATA_DIR\")\n",
    "DATA_MANUAL_DIR = config(\"DATA_MANUAL_DIR\")\n",
    "\n",
    "# Print system path\n",
    "for i, path in enumerate(sys.path):\n",
    "    print(f\"{i}: {path}\")"
   ]
  },
  {
   "cell_type": "markdown",
   "id": "bfcc2cb6",
   "metadata": {},
   "source": [
    "## Track Index Dependencies"
   ]
  },
  {
   "cell_type": "code",
   "execution_count": 3,
   "id": "273bf49c",
   "metadata": {
    "execution": {
     "iopub.execute_input": "2025-06-05T03:50:50.584607Z",
     "iopub.status.busy": "2025-06-05T03:50:50.584323Z",
     "iopub.status.idle": "2025-06-05T03:50:50.589491Z",
     "shell.execute_reply": "2025-06-05T03:50:50.588494Z"
    }
   },
   "outputs": [],
   "source": [
    "# Create file to track markdown dependencies\n",
    "dep_file = Path(\"index_dep.txt\")\n",
    "dep_file.write_text(\"\")\n",
    "\n",
    "from export_track_md_deps import export_track_md_deps\n"
   ]
  },
  {
   "cell_type": "markdown",
   "id": "cb0b2cef",
   "metadata": {},
   "source": [
    "## Python Functions"
   ]
  },
  {
   "cell_type": "code",
   "execution_count": 4,
   "id": "7e12cbc9",
   "metadata": {
    "execution": {
     "iopub.execute_input": "2025-06-05T03:50:50.592922Z",
     "iopub.status.busy": "2025-06-05T03:50:50.592053Z",
     "iopub.status.idle": "2025-06-05T03:50:50.598608Z",
     "shell.execute_reply": "2025-06-05T03:50:50.597552Z"
    }
   },
   "outputs": [
    {
     "name": "stdout",
     "output_type": "stream",
     "text": [
      "✅ Exported and tracked: bb_clean_data.md\n"
     ]
    }
   ],
   "source": [
    "from bb_clean_data import bb_clean_data\n",
    "code = Path(SOURCE_DIR / \"bb_clean_data.py\").read_text()\n",
    "md_code_block = f\"```python\\n{code}\\n```\"\n",
    "# Copy this <!-- INSERT_bb_clean_data_HERE --> to index_temp.md\n",
    "export_track_md_deps(dep_file=dep_file, md_filename=\"bb_clean_data.md\", content=md_code_block)"
   ]
  },
  {
   "cell_type": "code",
   "execution_count": 5,
   "id": "03343637",
   "metadata": {
    "execution": {
     "iopub.execute_input": "2025-06-05T03:50:50.601430Z",
     "iopub.status.busy": "2025-06-05T03:50:50.601123Z",
     "iopub.status.idle": "2025-06-05T03:50:50.607567Z",
     "shell.execute_reply": "2025-06-05T03:50:50.606544Z"
    }
   },
   "outputs": [
    {
     "name": "stdout",
     "output_type": "stream",
     "text": [
      "✅ Exported and tracked: build_index.md\n"
     ]
    }
   ],
   "source": [
    "from build_index import build_index\n",
    "code = Path(SOURCE_DIR / \"build_index.py\").read_text()\n",
    "md_code_block = f\"```python\\n{code}\\n```\"\n",
    "# Copy this <!-- INSERT_build_index_HERE --> to index_temp.md\n",
    "export_track_md_deps(dep_file=dep_file, md_filename=\"build_index.md\", content=md_code_block)"
   ]
  },
  {
   "cell_type": "code",
   "execution_count": 6,
   "id": "ff53c720",
   "metadata": {
    "execution": {
     "iopub.execute_input": "2025-06-05T03:50:50.611401Z",
     "iopub.status.busy": "2025-06-05T03:50:50.610947Z",
     "iopub.status.idle": "2025-06-05T03:50:50.618971Z",
     "shell.execute_reply": "2025-06-05T03:50:50.617825Z"
    }
   },
   "outputs": [
    {
     "name": "stdout",
     "output_type": "stream",
     "text": [
      "✅ Exported and tracked: calc_vix_trade_pnl.md\n"
     ]
    }
   ],
   "source": [
    "from calc_vix_trade_pnl import calc_vix_trade_pnl\n",
    "code = Path(SOURCE_DIR / \"calc_vix_trade_pnl.py\").read_text()\n",
    "md_code_block = f\"```python\\n{code}\\n```\"\n",
    "# Copy this <!-- INSERT_calc_vix_trade_pnl_HERE --> to index_temp.md\n",
    "export_track_md_deps(dep_file=dep_file, md_filename=\"calc_vix_trade_pnl.md\", content=md_code_block)"
   ]
  },
  {
   "cell_type": "code",
   "execution_count": 7,
   "id": "c2f67f0d",
   "metadata": {
    "execution": {
     "iopub.execute_input": "2025-06-05T03:50:50.621869Z",
     "iopub.status.busy": "2025-06-05T03:50:50.621561Z",
     "iopub.status.idle": "2025-06-05T03:50:50.628655Z",
     "shell.execute_reply": "2025-06-05T03:50:50.627365Z"
    }
   },
   "outputs": [
    {
     "name": "stdout",
     "output_type": "stream",
     "text": [
      "✅ Exported and tracked: df_info.md\n"
     ]
    }
   ],
   "source": [
    "from df_info import df_info\n",
    "code = Path(SOURCE_DIR / \"df_info.py\").read_text()\n",
    "md_code_block = f\"```python\\n{code}\\n```\"\n",
    "# Copy this <!-- INSERT_df_info_HERE --> to index_temp.md\n",
    "export_track_md_deps(dep_file=dep_file, md_filename=\"df_info.md\", content=md_code_block)"
   ]
  },
  {
   "cell_type": "code",
   "execution_count": 8,
   "id": "ce9e3f12",
   "metadata": {
    "execution": {
     "iopub.execute_input": "2025-06-05T03:50:50.632143Z",
     "iopub.status.busy": "2025-06-05T03:50:50.631833Z",
     "iopub.status.idle": "2025-06-05T03:50:50.639476Z",
     "shell.execute_reply": "2025-06-05T03:50:50.638317Z"
    }
   },
   "outputs": [
    {
     "name": "stdout",
     "output_type": "stream",
     "text": [
      "✅ Exported and tracked: df_info_markdown.md\n"
     ]
    }
   ],
   "source": [
    "from df_info_markdown import df_info_markdown\n",
    "code = Path(SOURCE_DIR / \"df_info_markdown.py\").read_text()\n",
    "md_code_block = f\"```python\\n{code}\\n```\"\n",
    "# Copy this <!-- INSERT_df_info_markdown_HERE --> to index_temp.md\n",
    "export_track_md_deps(dep_file=dep_file, md_filename=\"df_info_markdown.md\", content=md_code_block)"
   ]
  },
  {
   "cell_type": "code",
   "execution_count": 9,
   "id": "5c2198d9",
   "metadata": {
    "execution": {
     "iopub.execute_input": "2025-06-05T03:50:50.642640Z",
     "iopub.status.busy": "2025-06-05T03:50:50.642317Z",
     "iopub.status.idle": "2025-06-05T03:50:50.649271Z",
     "shell.execute_reply": "2025-06-05T03:50:50.648202Z"
    }
   },
   "outputs": [
    {
     "name": "stdout",
     "output_type": "stream",
     "text": [
      "✅ Exported and tracked: export_track_md_deps.md\n"
     ]
    }
   ],
   "source": [
    "from export_track_md_deps import export_track_md_deps\n",
    "code = Path(SOURCE_DIR / \"export_track_md_deps.py\").read_text()\n",
    "md_code_block = f\"```python\\n{code}\\n```\"\n",
    "# Copy this <!-- INSERT_export_track_md_deps_HERE --> to index_temp.md\n",
    "export_track_md_deps(dep_file=dep_file, md_filename=\"export_track_md_deps.md\", content=md_code_block)"
   ]
  },
  {
   "cell_type": "code",
   "execution_count": 10,
   "id": "fe0f4271",
   "metadata": {
    "execution": {
     "iopub.execute_input": "2025-06-05T03:50:50.653448Z",
     "iopub.status.busy": "2025-06-05T03:50:50.652819Z",
     "iopub.status.idle": "2025-06-05T03:50:50.668420Z",
     "shell.execute_reply": "2025-06-05T03:50:50.667165Z"
    }
   },
   "outputs": [
    {
     "name": "stdout",
     "output_type": "stream",
     "text": [
      "✅ Exported and tracked: load_api_keys.md\n"
     ]
    }
   ],
   "source": [
    "from load_api_keys import load_api_keys\n",
    "code = Path(SOURCE_DIR / \"load_api_keys.py\").read_text()\n",
    "md_code_block = f\"```python\\n{code}\\n```\"\n",
    "# Copy this <!-- INSERT_load_api_keys_HERE --> to index_temp.md\n",
    "export_track_md_deps(dep_file=dep_file, md_filename=\"load_api_keys.md\", content=md_code_block)"
   ]
  },
  {
   "cell_type": "code",
   "execution_count": 11,
   "id": "03276c63",
   "metadata": {
    "execution": {
     "iopub.execute_input": "2025-06-05T03:50:50.672490Z",
     "iopub.status.busy": "2025-06-05T03:50:50.672024Z",
     "iopub.status.idle": "2025-06-05T03:50:50.680038Z",
     "shell.execute_reply": "2025-06-05T03:50:50.678684Z"
    }
   },
   "outputs": [
    {
     "name": "stdout",
     "output_type": "stream",
     "text": [
      "✅ Exported and tracked: load_data.md\n"
     ]
    }
   ],
   "source": [
    "from load_data import load_data\n",
    "code = Path(SOURCE_DIR / \"load_data.py\").read_text()\n",
    "md_code_block = f\"```python\\n{code}\\n```\"\n",
    "# Copy this <!-- INSERT_load_data_HERE --> to index_temp.md\n",
    "export_track_md_deps(dep_file=dep_file, md_filename=\"load_data.md\", content=md_code_block)"
   ]
  },
  {
   "cell_type": "code",
   "execution_count": 12,
   "id": "687f7289",
   "metadata": {
    "execution": {
     "iopub.execute_input": "2025-06-05T03:50:50.684624Z",
     "iopub.status.busy": "2025-06-05T03:50:50.683963Z",
     "iopub.status.idle": "2025-06-05T03:50:50.691057Z",
     "shell.execute_reply": "2025-06-05T03:50:50.690075Z"
    }
   },
   "outputs": [
    {
     "name": "stdout",
     "output_type": "stream",
     "text": [
      "✅ Exported and tracked: pandas_set_decimal_places.md\n"
     ]
    }
   ],
   "source": [
    "from pandas_set_decimal_places import pandas_set_decimal_places\n",
    "code = Path(SOURCE_DIR / \"pandas_set_decimal_places.py\").read_text()\n",
    "md_code_block = f\"```python\\n{code}\\n```\"\n",
    "# Copy this <!-- INSERT_pandas_set_decimal_places_HERE --> to index_temp.md\n",
    "export_track_md_deps(dep_file=dep_file, md_filename=\"pandas_set_decimal_places.md\", content=md_code_block)"
   ]
  },
  {
   "cell_type": "code",
   "execution_count": 13,
   "id": "cb00f66a",
   "metadata": {
    "execution": {
     "iopub.execute_input": "2025-06-05T03:50:50.694979Z",
     "iopub.status.busy": "2025-06-05T03:50:50.694619Z",
     "iopub.status.idle": "2025-06-05T03:50:50.703365Z",
     "shell.execute_reply": "2025-06-05T03:50:50.702128Z"
    }
   },
   "outputs": [
    {
     "name": "stdout",
     "output_type": "stream",
     "text": [
      "✅ Exported and tracked: plot_price.md\n"
     ]
    }
   ],
   "source": [
    "from plot_price import plot_price\n",
    "code = Path(SOURCE_DIR / \"plot_price.py\").read_text()\n",
    "md_code_block = f\"```python\\n{code}\\n```\"\n",
    "# Copy this <!-- INSERT_plot_price_HERE --> to index_temp.md\n",
    "export_track_md_deps(dep_file=dep_file, md_filename=\"plot_price.md\", content=md_code_block)"
   ]
  },
  {
   "cell_type": "code",
   "execution_count": 14,
   "id": "e85c782e",
   "metadata": {
    "execution": {
     "iopub.execute_input": "2025-06-05T03:50:50.706499Z",
     "iopub.status.busy": "2025-06-05T03:50:50.706139Z",
     "iopub.status.idle": "2025-06-05T03:50:50.713674Z",
     "shell.execute_reply": "2025-06-05T03:50:50.712395Z"
    }
   },
   "outputs": [
    {
     "name": "stdout",
     "output_type": "stream",
     "text": [
      "✅ Exported and tracked: plot_vix_with_trades.md\n"
     ]
    }
   ],
   "source": [
    "from plot_vix_with_trades import plot_vix_with_trades\n",
    "code = Path(SOURCE_DIR / \"plot_vix_with_trades.py\").read_text()\n",
    "md_code_block = f\"```python\\n{code}\\n```\"\n",
    "# Copy this <!-- INSERT_plot_vix_with_trades_HERE --> to index_temp.md\n",
    "export_track_md_deps(dep_file=dep_file, md_filename=\"plot_vix_with_trades.md\", content=md_code_block)"
   ]
  },
  {
   "cell_type": "code",
   "execution_count": 15,
   "id": "6f5bf2e3",
   "metadata": {
    "execution": {
     "iopub.execute_input": "2025-06-05T03:50:50.717445Z",
     "iopub.status.busy": "2025-06-05T03:50:50.717040Z",
     "iopub.status.idle": "2025-06-05T03:50:50.724071Z",
     "shell.execute_reply": "2025-06-05T03:50:50.722884Z"
    }
   },
   "outputs": [
    {
     "name": "stdout",
     "output_type": "stream",
     "text": [
      "✅ Exported and tracked: strategy_harry_brown_perm_port.md\n"
     ]
    }
   ],
   "source": [
    "from strategy_harry_brown_perm_port import strategy_harry_brown_perm_port\n",
    "code = Path(SOURCE_DIR / \"strategy_harry_brown_perm_port.py\").read_text()\n",
    "md_code_block = f\"```python\\n{code}\\n```\"\n",
    "# Copy this <!-- INSERT_strategy_harry_brown_perm_port_HERE --> to index_temp.md\n",
    "export_track_md_deps(dep_file=dep_file, md_filename=\"strategy_harry_brown_perm_port.md\", content=md_code_block)"
   ]
  },
  {
   "cell_type": "code",
   "execution_count": 16,
   "id": "855036ed",
   "metadata": {
    "execution": {
     "iopub.execute_input": "2025-06-05T03:50:50.727951Z",
     "iopub.status.busy": "2025-06-05T03:50:50.727615Z",
     "iopub.status.idle": "2025-06-05T03:50:50.734807Z",
     "shell.execute_reply": "2025-06-05T03:50:50.733674Z"
    }
   },
   "outputs": [
    {
     "name": "stdout",
     "output_type": "stream",
     "text": [
      "✅ Exported and tracked: summary_stats.md\n"
     ]
    }
   ],
   "source": [
    "from summary_stats import summary_stats\n",
    "code = Path(SOURCE_DIR / \"summary_stats.py\").read_text()\n",
    "md_code_block = f\"```python\\n{code}\\n```\"\n",
    "# Copy this <!-- INSERT_summary_stats_HERE --> to index_temp.md\n",
    "export_track_md_deps(dep_file=dep_file, md_filename=\"summary_stats.md\", content=md_code_block)"
   ]
  },
  {
   "cell_type": "code",
   "execution_count": 17,
   "id": "00e83536",
   "metadata": {
    "execution": {
     "iopub.execute_input": "2025-06-05T03:50:50.738691Z",
     "iopub.status.busy": "2025-06-05T03:50:50.738222Z",
     "iopub.status.idle": "2025-06-05T03:50:50.746169Z",
     "shell.execute_reply": "2025-06-05T03:50:50.744888Z"
    }
   },
   "outputs": [
    {
     "name": "stdout",
     "output_type": "stream",
     "text": [
      "✅ Exported and tracked: yf_pull_data.md\n"
     ]
    }
   ],
   "source": [
    "from yf_pull_data import yf_pull_data\n",
    "code = Path(SOURCE_DIR / \"yf_pull_data.py\").read_text()\n",
    "md_code_block = f\"```python\\n{code}\\n```\"\n",
    "# Copy this <!-- INSERT_yf_pull_data_HERE --> to index_temp.md\n",
    "export_track_md_deps(dep_file=dep_file, md_filename=\"yf_pull_data.md\", content=md_code_block)"
   ]
  }
 ],
 "metadata": {
  "kernelspec": {
   "display_name": "general_313",
   "language": "python",
   "name": "python3"
  },
  "language_info": {
   "codemirror_mode": {
    "name": "ipython",
    "version": 3
   },
   "file_extension": ".py",
   "mimetype": "text/x-python",
   "name": "python",
   "nbconvert_exporter": "python",
   "pygments_lexer": "ipython3",
   "version": "3.13.3"
  }
 },
 "nbformat": 4,
 "nbformat_minor": 5
}
