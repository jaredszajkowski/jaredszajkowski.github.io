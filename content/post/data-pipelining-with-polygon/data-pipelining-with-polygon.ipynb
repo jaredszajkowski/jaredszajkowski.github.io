{
 "cells": [
  {
   "cell_type": "markdown",
   "id": "307fa821",
   "metadata": {},
   "source": [
    "# Data Pipelining With Polygon"
   ]
  },
  {
   "cell_type": "markdown",
   "id": "547ce63e",
   "metadata": {},
   "source": [
    "## Python Imports"
   ]
  },
  {
   "cell_type": "code",
   "execution_count": 1,
   "id": "72a6dbc5",
   "metadata": {
    "execution": {
     "iopub.execute_input": "2025-08-11T01:01:25.818608Z",
     "iopub.status.busy": "2025-08-11T01:01:25.818322Z",
     "iopub.status.idle": "2025-08-11T01:01:27.848538Z",
     "shell.execute_reply": "2025-08-11T01:01:27.847852Z"
    }
   },
   "outputs": [],
   "source": [
    "# Standard Library\n",
    "import datetime\n",
    "import io\n",
    "import os\n",
    "import random\n",
    "import sys\n",
    "import warnings\n",
    "\n",
    "from datetime import datetime, timedelta\n",
    "from pathlib import Path\n",
    "\n",
    "# Data Handling\n",
    "import numpy as np\n",
    "import pandas as pd\n",
    "\n",
    "# Data Visualization\n",
    "import matplotlib.dates as mdates\n",
    "import matplotlib.pyplot as plt\n",
    "import matplotlib.ticker as mtick\n",
    "import seaborn as sns\n",
    "from matplotlib.ticker import FormatStrFormatter, FuncFormatter, MultipleLocator\n",
    "\n",
    "# Data Sources\n",
    "import yfinance as yf\n",
    "\n",
    "# Statistical Analysis\n",
    "import statsmodels.api as sm\n",
    "\n",
    "# Machine Learning\n",
    "from sklearn.decomposition import PCA\n",
    "from sklearn.preprocessing import StandardScaler\n",
    "\n",
    "# Suppress warnings\n",
    "warnings.filterwarnings(\"ignore\")"
   ]
  },
  {
   "cell_type": "markdown",
   "id": "b5d3911f",
   "metadata": {},
   "source": [
    "## Add Directories To Path"
   ]
  },
  {
   "cell_type": "code",
   "execution_count": 2,
   "id": "eaed08fd",
   "metadata": {
    "execution": {
     "iopub.execute_input": "2025-08-11T01:01:27.851413Z",
     "iopub.status.busy": "2025-08-11T01:01:27.851029Z",
     "iopub.status.idle": "2025-08-11T01:01:27.858691Z",
     "shell.execute_reply": "2025-08-11T01:01:27.858079Z"
    }
   },
   "outputs": [
    {
     "name": "stdout",
     "output_type": "stream",
     "text": [
      "0: /usr/lib/python313.zip\n",
      "1: /usr/lib/python3.13\n",
      "2: /usr/lib/python3.13/lib-dynload\n",
      "3: \n",
      "4: /home/jared/python-virtual-envs/general_313/lib/python3.13/site-packages\n",
      "5: /home/jared/Cloud_Storage/Dropbox/Websites/jaredszajkowski.github.io/src\n"
     ]
    }
   ],
   "source": [
    "# Add the source subdirectory to the system path to allow import config from settings.py\n",
    "current_directory = Path(os.getcwd())\n",
    "website_base_directory = current_directory.parent.parent.parent\n",
    "src_directory = website_base_directory / \"src\"\n",
    "sys.path.append(str(src_directory)) if str(src_directory) not in sys.path else None\n",
    "\n",
    "# Import settings.py\n",
    "from settings import config\n",
    "\n",
    "# Add configured directories from config to path\n",
    "SOURCE_DIR = config(\"SOURCE_DIR\")\n",
    "sys.path.append(str(Path(SOURCE_DIR))) if str(Path(SOURCE_DIR)) not in sys.path else None\n",
    "\n",
    "# Add other configured directories\n",
    "BASE_DIR = config(\"BASE_DIR\")\n",
    "CONTENT_DIR = config(\"CONTENT_DIR\")\n",
    "POSTS_DIR = config(\"POSTS_DIR\")\n",
    "PAGES_DIR = config(\"PAGES_DIR\")\n",
    "PUBLIC_DIR = config(\"PUBLIC_DIR\")\n",
    "SOURCE_DIR = config(\"SOURCE_DIR\")\n",
    "DATA_DIR = config(\"DATA_DIR\")\n",
    "DATA_MANUAL_DIR = config(\"DATA_MANUAL_DIR\")\n",
    "\n",
    "# Print system path\n",
    "for i, path in enumerate(sys.path):\n",
    "    print(f\"{i}: {path}\")"
   ]
  },
  {
   "cell_type": "markdown",
   "id": "bfcc2cb6",
   "metadata": {},
   "source": [
    "## Track Index Dependencies"
   ]
  },
  {
   "cell_type": "code",
   "execution_count": 3,
   "id": "273bf49c",
   "metadata": {
    "execution": {
     "iopub.execute_input": "2025-08-11T01:01:27.861135Z",
     "iopub.status.busy": "2025-08-11T01:01:27.860919Z",
     "iopub.status.idle": "2025-08-11T01:01:27.870302Z",
     "shell.execute_reply": "2025-08-11T01:01:27.869390Z"
    }
   },
   "outputs": [
    {
     "data": {
      "text/plain": [
       "0"
      ]
     },
     "execution_count": 3,
     "metadata": {},
     "output_type": "execute_result"
    }
   ],
   "source": [
    "# Create file to track markdown dependencies\n",
    "dep_file = Path(\"index_dep.txt\")\n",
    "dep_file.write_text(\"\")"
   ]
  },
  {
   "cell_type": "markdown",
   "id": "cb0b2cef",
   "metadata": {},
   "source": [
    "## Python Functions"
   ]
  },
  {
   "cell_type": "code",
   "execution_count": 4,
   "id": "8db0f9f2",
   "metadata": {
    "execution": {
     "iopub.execute_input": "2025-08-11T01:01:27.873819Z",
     "iopub.status.busy": "2025-08-11T01:01:27.873381Z",
     "iopub.status.idle": "2025-08-11T01:01:28.069218Z",
     "shell.execute_reply": "2025-08-11T01:01:28.067984Z"
    }
   },
   "outputs": [],
   "source": [
    "from export_track_md_deps import export_track_md_deps\n",
    "from polygon_fetch_full_history import polygon_fetch_full_history\n",
    "from polygon_pull_data import polygon_pull_data"
   ]
  },
  {
   "cell_type": "markdown",
   "id": "3069fc09",
   "metadata": {},
   "source": [
    "## Function Usage"
   ]
  },
  {
   "cell_type": "markdown",
   "id": "035870c5",
   "metadata": {},
   "source": [
    "### Polygon Fetch Full History"
   ]
  },
  {
   "cell_type": "code",
   "execution_count": 5,
   "id": "8121e09a",
   "metadata": {
    "execution": {
     "iopub.execute_input": "2025-08-11T01:01:28.075506Z",
     "iopub.status.busy": "2025-08-11T01:01:28.074705Z",
     "iopub.status.idle": "2025-08-11T01:01:40.536214Z",
     "shell.execute_reply": "2025-08-11T01:01:40.533231Z"
    }
   },
   "outputs": [
    {
     "name": "stdout",
     "output_type": "stream",
     "text": [
      "Pulling day data for 2025-01-01 00:00:00 thru 2026-01-01 00:00:00 for AMZN...\n"
     ]
    },
    {
     "name": "stdout",
     "output_type": "stream",
     "text": [
      "New data:\n",
      "                   Date     open     high       low   close      volume  \\\n",
      "0   2025-01-02 05:00:00  222.030  225.150  218.1900  220.22  33956579.0   \n",
      "1   2025-01-03 05:00:00  222.505  225.360  221.6200  224.19  27503606.0   \n",
      "2   2025-01-06 05:00:00  226.780  228.835  224.8400  227.61  31849831.0   \n",
      "3   2025-01-07 05:00:00  227.900  228.381  221.4600  222.11  28084164.0   \n",
      "4   2025-01-08 05:00:00  223.185  223.520  220.2000  222.13  25033292.0   \n",
      "..                  ...      ...      ...       ...     ...         ...   \n",
      "145 2025-08-04 04:00:00  217.400  217.440  211.4200  211.65  77890146.0   \n",
      "146 2025-08-05 04:00:00  213.050  216.300  212.8700  213.75  51505121.0   \n",
      "147 2025-08-06 04:00:00  214.695  222.650  213.7409  222.31  54823045.0   \n",
      "148 2025-08-07 04:00:00  221.000  226.220  220.8200  223.13  40603513.0   \n",
      "149 2025-08-08 04:00:00  223.140  223.800  221.8836  222.69  32970477.0   \n",
      "\n",
      "         vwap  transactions   otc  \n",
      "0    221.2745        449631  None  \n",
      "1    223.7046        346975  None  \n",
      "2    227.0921        410686  None  \n",
      "3    223.4033        379570  None  \n",
      "4    222.0414        325539  None  \n",
      "..        ...           ...   ...  \n",
      "145  213.1312       1046525  None  \n",
      "146  214.5142        639055  None  \n",
      "147  219.4299        654274  None  \n",
      "148  223.1357        553279  None  \n",
      "149  222.6698        397504  None  \n",
      "\n",
      "[150 rows x 9 columns]\n",
      "Combined data:\n",
      "                   Date     open     high       low   close      volume  \\\n",
      "0   2025-01-02 05:00:00  222.030  225.150  218.1900  220.22  33956579.0   \n",
      "1   2025-01-03 05:00:00  222.505  225.360  221.6200  224.19  27503606.0   \n",
      "2   2025-01-06 05:00:00  226.780  228.835  224.8400  227.61  31849831.0   \n",
      "3   2025-01-07 05:00:00  227.900  228.381  221.4600  222.11  28084164.0   \n",
      "4   2025-01-08 05:00:00  223.185  223.520  220.2000  222.13  25033292.0   \n",
      "..                  ...      ...      ...       ...     ...         ...   \n",
      "145 2025-08-04 04:00:00  217.400  217.440  211.4200  211.65  77890146.0   \n",
      "146 2025-08-05 04:00:00  213.050  216.300  212.8700  213.75  51505121.0   \n",
      "147 2025-08-06 04:00:00  214.695  222.650  213.7409  222.31  54823045.0   \n",
      "148 2025-08-07 04:00:00  221.000  226.220  220.8200  223.13  40603513.0   \n",
      "149 2025-08-08 04:00:00  223.140  223.800  221.8836  222.69  32970477.0   \n",
      "\n",
      "         vwap  transactions   otc  \n",
      "0    221.2745        449631  None  \n",
      "1    223.7046        346975  None  \n",
      "2    227.0921        410686  None  \n",
      "3    223.4033        379570  None  \n",
      "4    222.0414        325539  None  \n",
      "..        ...           ...   ...  \n",
      "145  213.1312       1046525  None  \n",
      "146  214.5142        639055  None  \n",
      "147  219.4299        654274  None  \n",
      "148  223.1357        553279  None  \n",
      "149  222.6698        397504  None  \n",
      "\n",
      "[150 rows x 9 columns]\n",
      "Sleeping for 12 seconds to avoid hitting API rate limits...\n",
      "\n"
     ]
    }
   ],
   "source": [
    "from load_api_keys import load_api_keys\n",
    "from polygon import RESTClient\n",
    "\n",
    "# Load API keys from the environment\n",
    "api_keys = load_api_keys()\n",
    "\n",
    "# Get the environment variable for where data is stored\n",
    "DATA_DIR = config(\"DATA_DIR\")\n",
    "\n",
    "# Open client connection\n",
    "client = RESTClient(api_key=api_keys[\"POLYGON_KEY\"])\n",
    "\n",
    "# Create an empty DataFrame\n",
    "df = pd.DataFrame({\n",
    "    'Date': pd.Series(dtype=\"datetime64[ns]\"),\n",
    "    'open': pd.Series(dtype=\"float64\"),\n",
    "    'high': pd.Series(dtype=\"float64\"),\n",
    "    'low': pd.Series(dtype=\"float64\"),\n",
    "    'close': pd.Series(dtype=\"float64\"),\n",
    "    'volume': pd.Series(dtype=\"float64\"),\n",
    "    'vwap': pd.Series(dtype=\"float64\"),\n",
    "    'transactions': pd.Series(dtype=\"int64\"),\n",
    "    'otc': pd.Series(dtype=\"object\")\n",
    "})\n",
    "\n",
    "# Example usage - minute\n",
    "df = polygon_fetch_full_history(\n",
    "    client=client,\n",
    "    ticker=\"AMZN\",\n",
    "    timespan=\"day\",\n",
    "    multiplier=1,\n",
    "    adjusted=True,\n",
    "    full_history_df=df,\n",
    "    current_start=datetime(2025, 1, 1),\n",
    "    free_tier=True,\n",
    ")"
   ]
  },
  {
   "cell_type": "code",
   "execution_count": 6,
   "id": "69ebae61",
   "metadata": {
    "execution": {
     "iopub.execute_input": "2025-08-11T01:01:40.546093Z",
     "iopub.status.busy": "2025-08-11T01:01:40.544131Z",
     "iopub.status.idle": "2025-08-11T01:01:40.598665Z",
     "shell.execute_reply": "2025-08-11T01:01:40.597034Z"
    }
   },
   "outputs": [
    {
     "name": "stdout",
     "output_type": "stream",
     "text": [
      "✅ Exported and tracked: polygon_fetch_full_history.md\n"
     ]
    }
   ],
   "source": [
    "# Copy this <!-- INSERT_polygon_fetch_full_history_HERE --> to index_temp.md\n",
    "export_track_md_deps(dep_file=dep_file, md_filename=\"polygon_fetch_full_history.md\", content=df.to_markdown(floatfmt=\".5f\"))"
   ]
  },
  {
   "cell_type": "markdown",
   "id": "9ce2e265",
   "metadata": {},
   "source": [
    "### Polygon Pull Data"
   ]
  },
  {
   "cell_type": "code",
   "execution_count": 7,
   "id": "b0aa739f",
   "metadata": {
    "execution": {
     "iopub.execute_input": "2025-08-11T01:01:40.603097Z",
     "iopub.status.busy": "2025-08-11T01:01:40.602428Z",
     "iopub.status.idle": "2025-08-11T01:01:53.356504Z",
     "shell.execute_reply": "2025-08-11T01:01:53.355828Z"
    }
   },
   "outputs": [
    {
     "name": "stdout",
     "output_type": "stream",
     "text": [
      "File found...updating the AMZN day data.\n",
      "Existing data:\n",
      "                  Date     open    high       low   close      volume  \\\n",
      "0  2023-07-28 04:00:00  129.690  133.01  129.3300  132.21  46269781.0   \n",
      "1  2023-07-31 04:00:00  133.200  133.87  132.3800  133.68  41901516.0   \n",
      "0  2023-08-01 04:00:00  133.550  133.69  131.6199  131.69  42250989.0   \n",
      "1  2023-08-02 04:00:00  130.154  130.23  126.8200  128.21  50988614.0   \n",
      "2  2023-08-03 04:00:00  127.480  129.84  126.4100  128.91  90855736.0   \n",
      "..                 ...      ...     ...       ...     ...         ...   \n",
      "3  2025-08-04 04:00:00  217.400  217.44  211.4200  211.65  77890146.0   \n",
      "1  2025-08-05 04:00:00  213.050  216.30  212.8700  213.75  51505121.0   \n",
      "2  2025-08-06 04:00:00  214.695  222.65  213.7409  222.31  54823045.0   \n",
      "2  2025-08-07 04:00:00  221.000  226.22  220.8200  223.13  40603513.0   \n",
      "3  2025-08-08 04:00:00  223.140  223.80  221.8836  222.69  32970477.0   \n",
      "\n",
      "        vwap  transactions   otc  \n",
      "0   131.8837        413438  None  \n",
      "1   133.3410        406644  None  \n",
      "0   132.2470        385743  None  \n",
      "1   128.3973        532942  None  \n",
      "2   131.4941        746639  None  \n",
      "..       ...           ...   ...  \n",
      "3   213.1312       1046525  None  \n",
      "1   214.5142        639055  None  \n",
      "2   219.4299        654274  None  \n",
      "2   223.1357        553279  None  \n",
      "3   222.6698        397504  None  \n",
      "\n",
      "[510 rows x 9 columns]\n",
      "Last date in existing data: 2025-08-08 04:00:00\n",
      "Pulling day data for 2025-08-07 04:00:00 thru 2026-08-07 04:00:00 for AMZN...\n"
     ]
    },
    {
     "name": "stdout",
     "output_type": "stream",
     "text": [
      "New data:\n",
      "                 Date    open    high       low   close      volume      vwap  \\\n",
      "0 2025-08-07 04:00:00  221.00  226.22  220.8200  223.13  40603513.0  223.1357   \n",
      "1 2025-08-08 04:00:00  223.14  223.80  221.8836  222.69  32970477.0  222.6698   \n",
      "\n",
      "   transactions   otc  \n",
      "0        553279  None  \n",
      "1        397504  None  \n",
      "Combined data:\n",
      "                  Date     open    high       low   close      volume  \\\n",
      "0  2023-07-28 04:00:00  129.690  133.01  129.3300  132.21  46269781.0   \n",
      "1  2023-07-31 04:00:00  133.200  133.87  132.3800  133.68  41901516.0   \n",
      "0  2023-08-01 04:00:00  133.550  133.69  131.6199  131.69  42250989.0   \n",
      "1  2023-08-02 04:00:00  130.154  130.23  126.8200  128.21  50988614.0   \n",
      "2  2023-08-03 04:00:00  127.480  129.84  126.4100  128.91  90855736.0   \n",
      "..                 ...      ...     ...       ...     ...         ...   \n",
      "3  2025-08-04 04:00:00  217.400  217.44  211.4200  211.65  77890146.0   \n",
      "1  2025-08-05 04:00:00  213.050  216.30  212.8700  213.75  51505121.0   \n",
      "2  2025-08-06 04:00:00  214.695  222.65  213.7409  222.31  54823045.0   \n",
      "2  2025-08-07 04:00:00  221.000  226.22  220.8200  223.13  40603513.0   \n",
      "3  2025-08-08 04:00:00  223.140  223.80  221.8836  222.69  32970477.0   \n",
      "\n",
      "        vwap  transactions   otc  \n",
      "0   131.8837        413438  None  \n",
      "1   133.3410        406644  None  \n",
      "0   132.2470        385743  None  \n",
      "1   128.3973        532942  None  \n",
      "2   131.4941        746639  None  \n",
      "..       ...           ...   ...  \n",
      "3   213.1312       1046525  None  \n",
      "1   214.5142        639055  None  \n",
      "2   219.4299        654274  None  \n",
      "2   223.1357        553279  None  \n",
      "3   222.6698        397504  None  \n",
      "\n",
      "[510 rows x 9 columns]\n",
      "Sleeping for 12 seconds to avoid hitting API rate limits...\n",
      "\n"
     ]
    },
    {
     "name": "stdout",
     "output_type": "stream",
     "text": [
      "Exporting AMZN day data to Excel...\n"
     ]
    },
    {
     "name": "stdout",
     "output_type": "stream",
     "text": [
      "Exporting AMZN day data to pickle...\n",
      "The first and last date of data for AMZN is: \n"
     ]
    },
    {
     "data": {
      "text/html": [
       "<div>\n",
       "<style scoped>\n",
       "    .dataframe tbody tr th:only-of-type {\n",
       "        vertical-align: middle;\n",
       "    }\n",
       "\n",
       "    .dataframe tbody tr th {\n",
       "        vertical-align: top;\n",
       "    }\n",
       "\n",
       "    .dataframe thead th {\n",
       "        text-align: right;\n",
       "    }\n",
       "</style>\n",
       "<table border=\"1\" class=\"dataframe\">\n",
       "  <thead>\n",
       "    <tr style=\"text-align: right;\">\n",
       "      <th></th>\n",
       "      <th>Date</th>\n",
       "      <th>open</th>\n",
       "      <th>high</th>\n",
       "      <th>low</th>\n",
       "      <th>close</th>\n",
       "      <th>volume</th>\n",
       "      <th>vwap</th>\n",
       "      <th>transactions</th>\n",
       "      <th>otc</th>\n",
       "    </tr>\n",
       "  </thead>\n",
       "  <tbody>\n",
       "    <tr>\n",
       "      <th>0</th>\n",
       "      <td>2023-07-28 04:00:00</td>\n",
       "      <td>129.69</td>\n",
       "      <td>133.01</td>\n",
       "      <td>129.33</td>\n",
       "      <td>132.21</td>\n",
       "      <td>46269781.0</td>\n",
       "      <td>131.8837</td>\n",
       "      <td>413438</td>\n",
       "      <td>None</td>\n",
       "    </tr>\n",
       "  </tbody>\n",
       "</table>\n",
       "</div>"
      ],
      "text/plain": [
       "                 Date    open    high     low   close      volume      vwap  \\\n",
       "0 2023-07-28 04:00:00  129.69  133.01  129.33  132.21  46269781.0  131.8837   \n",
       "\n",
       "   transactions   otc  \n",
       "0        413438  None  "
      ]
     },
     "metadata": {},
     "output_type": "display_data"
    },
    {
     "data": {
      "text/html": [
       "<div>\n",
       "<style scoped>\n",
       "    .dataframe tbody tr th:only-of-type {\n",
       "        vertical-align: middle;\n",
       "    }\n",
       "\n",
       "    .dataframe tbody tr th {\n",
       "        vertical-align: top;\n",
       "    }\n",
       "\n",
       "    .dataframe thead th {\n",
       "        text-align: right;\n",
       "    }\n",
       "</style>\n",
       "<table border=\"1\" class=\"dataframe\">\n",
       "  <thead>\n",
       "    <tr style=\"text-align: right;\">\n",
       "      <th></th>\n",
       "      <th>Date</th>\n",
       "      <th>open</th>\n",
       "      <th>high</th>\n",
       "      <th>low</th>\n",
       "      <th>close</th>\n",
       "      <th>volume</th>\n",
       "      <th>vwap</th>\n",
       "      <th>transactions</th>\n",
       "      <th>otc</th>\n",
       "    </tr>\n",
       "  </thead>\n",
       "  <tbody>\n",
       "    <tr>\n",
       "      <th>3</th>\n",
       "      <td>2025-08-08 04:00:00</td>\n",
       "      <td>223.14</td>\n",
       "      <td>223.8</td>\n",
       "      <td>221.8836</td>\n",
       "      <td>222.69</td>\n",
       "      <td>32970477.0</td>\n",
       "      <td>222.6698</td>\n",
       "      <td>397504</td>\n",
       "      <td>None</td>\n",
       "    </tr>\n",
       "  </tbody>\n",
       "</table>\n",
       "</div>"
      ],
      "text/plain": [
       "                 Date    open   high       low   close      volume      vwap  \\\n",
       "3 2025-08-08 04:00:00  223.14  223.8  221.8836  222.69  32970477.0  222.6698   \n",
       "\n",
       "   transactions   otc  \n",
       "3        397504  None  "
      ]
     },
     "metadata": {},
     "output_type": "display_data"
    },
    {
     "name": "stdout",
     "output_type": "stream",
     "text": [
      "Polygon data complete for AMZN\n",
      "--------------------\n"
     ]
    }
   ],
   "source": [
    "current_year = datetime.now().year\n",
    "current_month = datetime.now().month\n",
    "current_day = datetime.now().day\n",
    "\n",
    "# Example usage - daily\n",
    "df = polygon_pull_data(\n",
    "    base_directory=DATA_DIR,\n",
    "    ticker=\"AMZN\",\n",
    "    source=\"Polygon\",\n",
    "    asset_class=\"Equities\",\n",
    "    start_date=datetime(current_year - 2, current_month, current_day),\n",
    "    timespan=\"day\",\n",
    "    multiplier=1,\n",
    "    adjusted=True,\n",
    "    excel_export=True,\n",
    "    pickle_export=True,\n",
    "    output_confirmation=True,\n",
    ")"
   ]
  },
  {
   "cell_type": "code",
   "execution_count": 8,
   "id": "0431814c",
   "metadata": {
    "execution": {
     "iopub.execute_input": "2025-08-11T01:01:53.359681Z",
     "iopub.status.busy": "2025-08-11T01:01:53.359347Z",
     "iopub.status.idle": "2025-08-11T01:01:53.430126Z",
     "shell.execute_reply": "2025-08-11T01:01:53.429102Z"
    }
   },
   "outputs": [
    {
     "name": "stdout",
     "output_type": "stream",
     "text": [
      "✅ Exported and tracked: polygon_pull_data.md\n"
     ]
    }
   ],
   "source": [
    "# Copy this <!-- INSERT_polygon_pull_data_HERE --> to index_temp.md\n",
    "export_track_md_deps(dep_file=dep_file, md_filename=\"polygon_pull_data.md\", content=df.to_markdown(floatfmt=\".5f\"))"
   ]
  }
 ],
 "metadata": {
  "kernelspec": {
   "display_name": "general_313",
   "language": "python",
   "name": "python3"
  },
  "language_info": {
   "codemirror_mode": {
    "name": "ipython",
    "version": 3
   },
   "file_extension": ".py",
   "mimetype": "text/x-python",
   "name": "python",
   "nbconvert_exporter": "python",
   "pygments_lexer": "ipython3",
   "version": "3.13.5"
  }
 },
 "nbformat": 4,
 "nbformat_minor": 5
}
