{
 "cells": [
  {
   "cell_type": "code",
   "execution_count": 3,
   "id": "2287fa1b",
   "metadata": {},
   "outputs": [],
   "source": [
    "# This function pulls data from Yahoo finance\n",
    "import pandas as pd\n",
    "import numpy as np\n",
    "import yfinance as yf\n",
    "\n",
    "def yf_data_updater(fund):\n",
    "    # Download data from YF\n",
    "    df_comp = yf.download(fund)\n",
    "    \n",
    "    # Reset index\n",
    "    df_comp.reset_index(inplace = True)\n",
    "    \n",
    "    # Drop data from last day because it's not accrate until end of day\n",
    "    df_comp.drop(df_comp.index[-1], inplace=True)\n",
    "    \n",
    "    # Reset date column\n",
    "    df_comp['Date'] = df_comp['Date'].dt.tz_localize(None)\n",
    "    \n",
    "    # Set index to date\n",
    "    df_comp.set_index('Date', inplace = True)\n",
    "    \n",
    "    # Export data to excel\n",
    "    file = fund + \".xlsx\"\n",
    "    df_comp.to_excel(file, sheet_name='data')\n",
    "\n",
    "    print(f\"The last date of data for {fund} is: \")\n",
    "    print(df_comp[-1:])\n",
    "    print(f\"Data updater complete for {fund} data\")\n",
    "    return print(f\"--------------------\")"
   ]
  },
  {
   "cell_type": "code",
   "execution_count": 4,
   "id": "2c009ca6",
   "metadata": {},
   "outputs": [
    {
     "name": "stderr",
     "output_type": "stream",
     "text": [
      "[*********************100%%**********************]  1 of 1 completed\n"
     ]
    },
    {
     "name": "stdout",
     "output_type": "stream",
     "text": [
      "The last date of data for ^VIX is: \n",
      "             Open       High        Low  Close  Adj Close  Volume\n",
      "Date                                                             \n",
      "2024-09-05  20.75  21.530001  19.209999   19.9       19.9       0\n",
      "Data updater complete for ^VIX data\n",
      "--------------------\n"
     ]
    }
   ],
   "source": [
    "yf_data_updater('^VIX')"
   ]
  },
  {
   "cell_type": "code",
   "execution_count": 3,
   "id": "7fe6801b",
   "metadata": {
    "scrolled": false
   },
   "outputs": [
    {
     "name": "stderr",
     "output_type": "stream",
     "text": [
      "[*********************100%%**********************]  1 of 1 completed\n"
     ]
    },
    {
     "name": "stdout",
     "output_type": "stream",
     "text": [
      "The last date of data for VFIAX is: \n",
      "                  Open        High         Low       Close   Adj Close  Volume\n",
      "Date                                                                          \n",
      "2024-04-01  483.859985  483.859985  483.859985  483.859985  483.859985       0\n",
      "Data updater complete for VFIAX data\n",
      "--------------------\n"
     ]
    },
    {
     "name": "stderr",
     "output_type": "stream",
     "text": [
      "[*********************100%%**********************]  1 of 1 completed\n"
     ]
    },
    {
     "name": "stdout",
     "output_type": "stream",
     "text": [
      "The last date of data for FXAIX is: \n",
      "                  Open        High         Low       Close   Adj Close  Volume\n",
      "Date                                                                          \n",
      "2024-04-01  182.580002  182.580002  182.580002  182.580002  182.580002       0\n",
      "Data updater complete for FXAIX data\n",
      "--------------------\n"
     ]
    },
    {
     "name": "stderr",
     "output_type": "stream",
     "text": [
      "[*********************100%%**********************]  1 of 1 completed\n",
      "[*********************100%%**********************]  1 of 1 completed"
     ]
    },
    {
     "name": "stdout",
     "output_type": "stream",
     "text": [
      "The last date of data for TCIEX is: \n",
      "             Open   High    Low  Close  Adj Close  Volume\n",
      "Date                                                     \n",
      "2024-04-01  22.99  22.99  22.99  22.99      22.99       0\n",
      "Data updater complete for TCIEX data\n",
      "--------------------\n"
     ]
    },
    {
     "name": "stderr",
     "output_type": "stream",
     "text": [
      "\n"
     ]
    },
    {
     "name": "stdout",
     "output_type": "stream",
     "text": [
      "The last date of data for OGGYX is: \n",
      "            Open  High   Low  Close  Adj Close  Volume\n",
      "Date                                                  \n",
      "2024-04-01  9.36  9.36  9.36   9.36       9.36       0\n",
      "Data updater complete for OGGYX data\n",
      "--------------------\n"
     ]
    },
    {
     "name": "stderr",
     "output_type": "stream",
     "text": [
      "[*********************100%%**********************]  1 of 1 completed\n"
     ]
    },
    {
     "name": "stdout",
     "output_type": "stream",
     "text": [
      "The last date of data for VSMAX is: \n",
      "                  Open        High         Low       Close   Adj Close  Volume\n",
      "Date                                                                          \n",
      "2024-04-01  108.580002  108.580002  108.580002  108.580002  108.580002       0\n",
      "Data updater complete for VSMAX data\n",
      "--------------------\n"
     ]
    },
    {
     "name": "stderr",
     "output_type": "stream",
     "text": [
      "[*********************100%%**********************]  1 of 1 completed\n",
      "[*********************100%%**********************]  1 of 1 completed"
     ]
    },
    {
     "name": "stdout",
     "output_type": "stream",
     "text": [
      "The last date of data for VBTLX is: \n",
      "            Open  High   Low  Close  Adj Close  Volume\n",
      "Date                                                  \n",
      "2024-04-01  9.48  9.48  9.48   9.48       9.48       0\n",
      "Data updater complete for VBTLX data\n",
      "--------------------\n"
     ]
    },
    {
     "name": "stderr",
     "output_type": "stream",
     "text": [
      "\n"
     ]
    },
    {
     "name": "stdout",
     "output_type": "stream",
     "text": [
      "The last date of data for VMVAX is: \n",
      "                 Open       High        Low      Close  Adj Close  Volume\n",
      "Date                                                                     \n",
      "2024-04-01  80.190002  80.190002  80.190002  80.190002  80.190002       0\n",
      "Data updater complete for VMVAX data\n",
      "--------------------\n"
     ]
    },
    {
     "name": "stderr",
     "output_type": "stream",
     "text": [
      "[*********************100%%**********************]  1 of 1 completed\n"
     ]
    },
    {
     "name": "stdout",
     "output_type": "stream",
     "text": [
      "The last date of data for GIBIX is: \n",
      "                 Open       High        Low      Close  Adj Close  Volume\n",
      "Date                                                                     \n",
      "2024-04-01  23.389999  23.389999  23.389999  23.389999  23.389999       0\n",
      "Data updater complete for GIBIX data\n",
      "--------------------\n"
     ]
    },
    {
     "name": "stderr",
     "output_type": "stream",
     "text": [
      "[*********************100%%**********************]  1 of 1 completed\n"
     ]
    },
    {
     "name": "stdout",
     "output_type": "stream",
     "text": [
      "The last date of data for ^GSPC is: \n",
      "                   Open         High          Low        Close    Adj Close  \\\n",
      "Date                                                                          \n",
      "2024-04-02  5204.290039  5208.339844  5184.049805  5205.810059  5205.810059   \n",
      "\n",
      "                Volume  \n",
      "Date                    \n",
      "2024-04-02  3886590000  \n",
      "Data updater complete for ^GSPC data\n",
      "--------------------\n"
     ]
    }
   ],
   "source": [
    "         #['SSO', 'EFO', 'UST', 'GSG', 'UGL', 'URE',\n",
    "funds =   ['VFIAX', 'FXAIX', 'TCIEX', 'OGGYX', 'VSMAX', 'VBTLX', 'VMVAX', 'GIBIX',\n",
    "#          'IVV', 'ACWX', \n",
    "#          'EFA', 'IEF', 'GLD', 'IAU', 'IYR', \n",
    "#          'AAPL', \n",
    "#          'AMZN', \n",
    "#          'DHY', \n",
    "#          'TQQQ', 'AGG', \n",
    "#          'MVV', 'SCHZ', \n",
    "#          'EDC', 'EBND', \n",
    "         '^GSPC']\n",
    "#          'SPY', \n",
    "#          'VB', 'BND']\n",
    "#          'SPX', 'MXEA', 'SPBDU10T', 'SPGCCI', 'XAU_BGN_Curncy', 'DJUSRE']\n",
    "for fund in funds:\n",
    "    yf_data_updater(fund)"
   ]
  },
  {
   "cell_type": "code",
   "execution_count": null,
   "id": "8fbd7eca",
   "metadata": {},
   "outputs": [],
   "source": []
  },
  {
   "cell_type": "code",
   "execution_count": null,
   "id": "620b9161",
   "metadata": {},
   "outputs": [],
   "source": [
    "# below is old"
   ]
  },
  {
   "cell_type": "code",
   "execution_count": null,
   "id": "87ef369c",
   "metadata": {},
   "outputs": [],
   "source": [
    "# old\n",
    "\n",
    "# This function updates an existing excel file with new data from yahoo finance or pulls the new data completely if there is\n",
    "# not an existing file\n",
    "def yf_data_updater(ticker):\n",
    "    file = ticker + \".xlsx\"\n",
    "    \n",
    "    try:\n",
    "        ex_data = pd.read_excel(file, sheet_name = 'data', engine='openpyxl')\n",
    "        cur_data = yf.download(ticker)\n",
    "        cur_data.reset_index(inplace = True)\n",
    "        cur_data.drop(cur_data.index[-1], inplace=True)\n",
    "        cur_data['Date'] = cur_data['Date'].dt.tz_localize(None)\n",
    "        comp_data = pd.concat([ex_data,cur_data[cur_data['Date'].isin(ex_data['Date']) == False]])\n",
    "        comp_data['Date'] = comp_data['Date'].dt.tz_localize(None)\n",
    "        comp_data.set_index('Date', inplace = True)\n",
    "        comp_data.to_excel(file, sheet_name='data')\n",
    "        \n",
    "    except FileNotFoundError:\n",
    "        print(f'File not found...downloading the {ticker} data')\n",
    "        cur_data = yf.download(ticker)\n",
    "        cur_data.reset_index(inplace = True)\n",
    "        cur_data.drop(cur_data.index[-1], inplace=True)\n",
    "        cur_data['Date'] = cur_data['Date'].dt.tz_localize(None)\n",
    "        cur_data.set_index('Date', inplace = True)\n",
    "        comp_data = cur_data\n",
    "        comp_data.to_excel(file, sheet_name='data')\n",
    "\n",
    "    print(f\"The last date of data for {ticker} is: \")\n",
    "    print(comp_data[-1:])\n",
    "    return print(f\"Data updater complete for {ticker} data\")"
   ]
  }
 ],
 "metadata": {
  "kernelspec": {
   "display_name": "Python 3 (ipykernel)",
   "language": "python",
   "name": "python3"
  },
  "language_info": {
   "codemirror_mode": {
    "name": "ipython",
    "version": 3
   },
   "file_extension": ".py",
   "mimetype": "text/x-python",
   "name": "python",
   "nbconvert_exporter": "python",
   "pygments_lexer": "ipython3",
   "version": "3.12.5"
  },
  "vscode": {
   "interpreter": {
    "hash": "e7370f93d1d0cde622a1f8e1c04877d8463912d04d973331ad4851f04de6915a"
   }
  }
 },
 "nbformat": 4,
 "nbformat_minor": 5
}
