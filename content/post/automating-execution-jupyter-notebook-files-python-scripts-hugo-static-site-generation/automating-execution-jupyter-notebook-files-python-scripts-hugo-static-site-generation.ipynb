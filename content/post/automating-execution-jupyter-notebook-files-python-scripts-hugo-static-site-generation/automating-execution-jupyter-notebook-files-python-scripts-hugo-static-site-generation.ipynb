{
 "cells": [
  {
   "cell_type": "markdown",
   "id": "307fa821",
   "metadata": {},
   "source": [
    "# Automating Execution of Jupyter Notebook Files, Python Scripts, and Hugo Static Site Generation"
   ]
  },
  {
   "cell_type": "markdown",
   "id": "547ce63e",
   "metadata": {},
   "source": [
    "## Python Imports"
   ]
  },
  {
   "cell_type": "code",
   "execution_count": 1,
   "id": "72a6dbc5",
   "metadata": {
    "execution": {
     "iopub.execute_input": "2025-06-28T19:43:11.133646Z",
     "iopub.status.busy": "2025-06-28T19:43:11.133492Z",
     "iopub.status.idle": "2025-06-28T19:43:12.441076Z",
     "shell.execute_reply": "2025-06-28T19:43:12.440495Z"
    }
   },
   "outputs": [],
   "source": [
    "# Standard Library\n",
    "import datetime\n",
    "import io\n",
    "import os\n",
    "import random\n",
    "import sys\n",
    "import warnings\n",
    "\n",
    "from datetime import datetime, timedelta\n",
    "from pathlib import Path\n",
    "\n",
    "# Data Handling\n",
    "import numpy as np\n",
    "import pandas as pd\n",
    "\n",
    "# Data Visualization\n",
    "import matplotlib.dates as mdates\n",
    "import matplotlib.pyplot as plt\n",
    "import matplotlib.ticker as mtick\n",
    "import seaborn as sns\n",
    "from matplotlib.ticker import FormatStrFormatter, FuncFormatter, MultipleLocator\n",
    "\n",
    "# Data Sources\n",
    "import yfinance as yf\n",
    "\n",
    "# Statistical Analysis\n",
    "import statsmodels.api as sm\n",
    "\n",
    "# Machine Learning\n",
    "from sklearn.decomposition import PCA\n",
    "from sklearn.preprocessing import StandardScaler\n",
    "\n",
    "# Suppress warnings\n",
    "warnings.filterwarnings(\"ignore\")"
   ]
  },
  {
   "cell_type": "markdown",
   "id": "b5d3911f",
   "metadata": {},
   "source": [
    "## Add Directories To Path"
   ]
  },
  {
   "cell_type": "code",
   "execution_count": 2,
   "id": "eaed08fd",
   "metadata": {
    "execution": {
     "iopub.execute_input": "2025-06-28T19:43:12.442895Z",
     "iopub.status.busy": "2025-06-28T19:43:12.442577Z",
     "iopub.status.idle": "2025-06-28T19:43:12.449415Z",
     "shell.execute_reply": "2025-06-28T19:43:12.448957Z"
    }
   },
   "outputs": [
    {
     "name": "stdout",
     "output_type": "stream",
     "text": [
      "0: /usr/lib/python313.zip\n",
      "1: /usr/lib/python3.13\n",
      "2: /usr/lib/python3.13/lib-dynload\n",
      "3: \n",
      "4: /home/jared/python-virtual-envs/general_313/lib/python3.13/site-packages\n",
      "5: /home/jared/Cloud_Storage/Dropbox/Websites/jaredszajkowski.github.io/src\n",
      "6: /home/jared/Cloud_Storage/Dropbox/Quant_Finance_Research\n",
      "7: /home/jared/Cloud_Storage/Dropbox/Quant_Finance_Research/src\n"
     ]
    }
   ],
   "source": [
    "# Add the source subdirectory to the system path to allow import config from settings.py\n",
    "current_directory = Path(os.getcwd())\n",
    "website_base_directory = current_directory.parent.parent.parent\n",
    "src_directory = website_base_directory / \"src\"\n",
    "sys.path.append(str(src_directory)) if str(src_directory) not in sys.path else None\n",
    "\n",
    "# Import settings.py\n",
    "from settings import config\n",
    "\n",
    "# Add configured directories from config to path\n",
    "SOURCE_DIR = config(\"SOURCE_DIR\")\n",
    "sys.path.append(str(Path(SOURCE_DIR))) if str(Path(SOURCE_DIR)) not in sys.path else None\n",
    "\n",
    "QUANT_FINANCE_RESEARCH_BASE_DIR = config(\"QUANT_FINANCE_RESEARCH_BASE_DIR\")\n",
    "sys.path.append(str(Path(QUANT_FINANCE_RESEARCH_BASE_DIR))) if str(Path(QUANT_FINANCE_RESEARCH_BASE_DIR)) not in sys.path else None\n",
    "\n",
    "QUANT_FINANCE_RESEARCH_SOURCE_DIR = config(\"QUANT_FINANCE_RESEARCH_SOURCE_DIR\")\n",
    "sys.path.append(str(Path(QUANT_FINANCE_RESEARCH_SOURCE_DIR))) if str(Path(QUANT_FINANCE_RESEARCH_SOURCE_DIR)) not in sys.path else None\n",
    "\n",
    "# Add other configured directories\n",
    "BASE_DIR = config(\"BASE_DIR\")\n",
    "CONTENT_DIR = config(\"CONTENT_DIR\")\n",
    "POSTS_DIR = config(\"POSTS_DIR\")\n",
    "PAGES_DIR = config(\"PAGES_DIR\")\n",
    "PUBLIC_DIR = config(\"PUBLIC_DIR\")\n",
    "SOURCE_DIR = config(\"SOURCE_DIR\")\n",
    "DATA_DIR = config(\"DATA_DIR\")\n",
    "DATA_MANUAL_DIR = config(\"DATA_MANUAL_DIR\")\n",
    "\n",
    "# Print system path\n",
    "for i, path in enumerate(sys.path):\n",
    "    print(f\"{i}: {path}\")"
   ]
  },
  {
   "cell_type": "markdown",
   "id": "bfcc2cb6",
   "metadata": {},
   "source": [
    "## Track Index Dependencies"
   ]
  },
  {
   "cell_type": "code",
   "execution_count": 3,
   "id": "273bf49c",
   "metadata": {
    "execution": {
     "iopub.execute_input": "2025-06-28T19:43:12.450947Z",
     "iopub.status.busy": "2025-06-28T19:43:12.450772Z",
     "iopub.status.idle": "2025-06-28T19:43:12.456577Z",
     "shell.execute_reply": "2025-06-28T19:43:12.456114Z"
    }
   },
   "outputs": [
    {
     "data": {
      "text/plain": [
       "0"
      ]
     },
     "execution_count": 3,
     "metadata": {},
     "output_type": "execute_result"
    }
   ],
   "source": [
    "# Create file to track markdown dependencies\n",
    "dep_file = Path(\"index_dep.txt\")\n",
    "dep_file.write_text(\"\")"
   ]
  },
  {
   "cell_type": "markdown",
   "id": "cb0b2cef",
   "metadata": {},
   "source": [
    "## Python Functions"
   ]
  },
  {
   "cell_type": "code",
   "execution_count": 4,
   "id": "090330c0",
   "metadata": {
    "execution": {
     "iopub.execute_input": "2025-06-28T19:43:12.458118Z",
     "iopub.status.busy": "2025-06-28T19:43:12.457975Z",
     "iopub.status.idle": "2025-06-28T19:43:12.462415Z",
     "shell.execute_reply": "2025-06-28T19:43:12.461939Z"
    }
   },
   "outputs": [],
   "source": [
    "from calc_vix_trade_pnl import calc_vix_trade_pnl\n",
    "from df_info import df_info\n",
    "from df_info_markdown import df_info_markdown\n",
    "from export_track_md_deps import export_track_md_deps\n",
    "from load_data import load_data\n",
    "from pandas_set_decimal_places import pandas_set_decimal_places\n",
    "from plot_price import plot_price\n",
    "from plot_stats import plot_stats\n",
    "from plot_vix_with_trades import plot_vix_with_trades\n",
    "from yf_pull_data import yf_pull_data"
   ]
  },
  {
   "cell_type": "markdown",
   "id": "3069fc09",
   "metadata": {},
   "source": [
    "## Data Overview (VIX)"
   ]
  },
  {
   "cell_type": "markdown",
   "id": "6ca087e3-a9de-4714-8e69-a4fd9a9ac668",
   "metadata": {},
   "source": [
    "### Acquire CBOE Volatility Index (VIX) Data"
   ]
  },
  {
   "cell_type": "code",
   "execution_count": 5,
   "id": "d2677589",
   "metadata": {
    "execution": {
     "iopub.execute_input": "2025-06-28T19:43:12.464005Z",
     "iopub.status.busy": "2025-06-28T19:43:12.463851Z",
     "iopub.status.idle": "2025-06-28T19:43:13.900712Z",
     "shell.execute_reply": "2025-06-28T19:43:13.900272Z"
    }
   },
   "outputs": [
    {
     "name": "stdout",
     "output_type": "stream",
     "text": [
      "YF.download() has changed argument auto_adjust default to True\n"
     ]
    },
    {
     "name": "stderr",
     "output_type": "stream",
     "text": [
      "\r",
      "[*********************100%***********************]  1 of 1 completed"
     ]
    },
    {
     "name": "stderr",
     "output_type": "stream",
     "text": [
      "\n"
     ]
    },
    {
     "name": "stdout",
     "output_type": "stream",
     "text": [
      "The first and last date of data for ^VIX is: \n"
     ]
    },
    {
     "data": {
      "text/html": [
       "<div>\n",
       "<style scoped>\n",
       "    .dataframe tbody tr th:only-of-type {\n",
       "        vertical-align: middle;\n",
       "    }\n",
       "\n",
       "    .dataframe tbody tr th {\n",
       "        vertical-align: top;\n",
       "    }\n",
       "\n",
       "    .dataframe thead th {\n",
       "        text-align: right;\n",
       "    }\n",
       "</style>\n",
       "<table border=\"1\" class=\"dataframe\">\n",
       "  <thead>\n",
       "    <tr style=\"text-align: right;\">\n",
       "      <th></th>\n",
       "      <th>Close</th>\n",
       "      <th>High</th>\n",
       "      <th>Low</th>\n",
       "      <th>Open</th>\n",
       "      <th>Volume</th>\n",
       "    </tr>\n",
       "    <tr>\n",
       "      <th>Date</th>\n",
       "      <th></th>\n",
       "      <th></th>\n",
       "      <th></th>\n",
       "      <th></th>\n",
       "      <th></th>\n",
       "    </tr>\n",
       "  </thead>\n",
       "  <tbody>\n",
       "    <tr>\n",
       "      <th>1990-01-02</th>\n",
       "      <td>17.24</td>\n",
       "      <td>17.24</td>\n",
       "      <td>17.24</td>\n",
       "      <td>17.24</td>\n",
       "      <td>0</td>\n",
       "    </tr>\n",
       "  </tbody>\n",
       "</table>\n",
       "</div>"
      ],
      "text/plain": [
       "            Close   High    Low   Open  Volume\n",
       "Date                                          \n",
       "1990-01-02  17.24  17.24  17.24  17.24       0"
      ]
     },
     "metadata": {},
     "output_type": "display_data"
    },
    {
     "data": {
      "text/html": [
       "<div>\n",
       "<style scoped>\n",
       "    .dataframe tbody tr th:only-of-type {\n",
       "        vertical-align: middle;\n",
       "    }\n",
       "\n",
       "    .dataframe tbody tr th {\n",
       "        vertical-align: top;\n",
       "    }\n",
       "\n",
       "    .dataframe thead th {\n",
       "        text-align: right;\n",
       "    }\n",
       "</style>\n",
       "<table border=\"1\" class=\"dataframe\">\n",
       "  <thead>\n",
       "    <tr style=\"text-align: right;\">\n",
       "      <th></th>\n",
       "      <th>Close</th>\n",
       "      <th>High</th>\n",
       "      <th>Low</th>\n",
       "      <th>Open</th>\n",
       "      <th>Volume</th>\n",
       "    </tr>\n",
       "    <tr>\n",
       "      <th>Date</th>\n",
       "      <th></th>\n",
       "      <th></th>\n",
       "      <th></th>\n",
       "      <th></th>\n",
       "      <th></th>\n",
       "    </tr>\n",
       "  </thead>\n",
       "  <tbody>\n",
       "    <tr>\n",
       "      <th>2025-06-26</th>\n",
       "      <td>16.59</td>\n",
       "      <td>16.780001</td>\n",
       "      <td>16.110001</td>\n",
       "      <td>16.67</td>\n",
       "      <td>0</td>\n",
       "    </tr>\n",
       "  </tbody>\n",
       "</table>\n",
       "</div>"
      ],
      "text/plain": [
       "            Close       High        Low   Open  Volume\n",
       "Date                                                  \n",
       "2025-06-26  16.59  16.780001  16.110001  16.67       0"
      ]
     },
     "metadata": {},
     "output_type": "display_data"
    },
    {
     "name": "stdout",
     "output_type": "stream",
     "text": [
      "Yahoo Finance data complete for ^VIX\n",
      "--------------------\n"
     ]
    },
    {
     "data": {
      "text/html": [
       "<div>\n",
       "<style scoped>\n",
       "    .dataframe tbody tr th:only-of-type {\n",
       "        vertical-align: middle;\n",
       "    }\n",
       "\n",
       "    .dataframe tbody tr th {\n",
       "        vertical-align: top;\n",
       "    }\n",
       "\n",
       "    .dataframe thead th {\n",
       "        text-align: right;\n",
       "    }\n",
       "</style>\n",
       "<table border=\"1\" class=\"dataframe\">\n",
       "  <thead>\n",
       "    <tr style=\"text-align: right;\">\n",
       "      <th></th>\n",
       "      <th>Close</th>\n",
       "      <th>High</th>\n",
       "      <th>Low</th>\n",
       "      <th>Open</th>\n",
       "      <th>Volume</th>\n",
       "    </tr>\n",
       "    <tr>\n",
       "      <th>Date</th>\n",
       "      <th></th>\n",
       "      <th></th>\n",
       "      <th></th>\n",
       "      <th></th>\n",
       "      <th></th>\n",
       "    </tr>\n",
       "  </thead>\n",
       "  <tbody>\n",
       "    <tr>\n",
       "      <th>1990-01-02</th>\n",
       "      <td>17.240000</td>\n",
       "      <td>17.240000</td>\n",
       "      <td>17.240000</td>\n",
       "      <td>17.240000</td>\n",
       "      <td>0</td>\n",
       "    </tr>\n",
       "    <tr>\n",
       "      <th>1990-01-03</th>\n",
       "      <td>18.190001</td>\n",
       "      <td>18.190001</td>\n",
       "      <td>18.190001</td>\n",
       "      <td>18.190001</td>\n",
       "      <td>0</td>\n",
       "    </tr>\n",
       "    <tr>\n",
       "      <th>1990-01-04</th>\n",
       "      <td>19.219999</td>\n",
       "      <td>19.219999</td>\n",
       "      <td>19.219999</td>\n",
       "      <td>19.219999</td>\n",
       "      <td>0</td>\n",
       "    </tr>\n",
       "    <tr>\n",
       "      <th>1990-01-05</th>\n",
       "      <td>20.110001</td>\n",
       "      <td>20.110001</td>\n",
       "      <td>20.110001</td>\n",
       "      <td>20.110001</td>\n",
       "      <td>0</td>\n",
       "    </tr>\n",
       "    <tr>\n",
       "      <th>1990-01-08</th>\n",
       "      <td>20.260000</td>\n",
       "      <td>20.260000</td>\n",
       "      <td>20.260000</td>\n",
       "      <td>20.260000</td>\n",
       "      <td>0</td>\n",
       "    </tr>\n",
       "    <tr>\n",
       "      <th>...</th>\n",
       "      <td>...</td>\n",
       "      <td>...</td>\n",
       "      <td>...</td>\n",
       "      <td>...</td>\n",
       "      <td>...</td>\n",
       "    </tr>\n",
       "    <tr>\n",
       "      <th>2025-06-20</th>\n",
       "      <td>20.620001</td>\n",
       "      <td>21.070000</td>\n",
       "      <td>19.110001</td>\n",
       "      <td>20.740000</td>\n",
       "      <td>0</td>\n",
       "    </tr>\n",
       "    <tr>\n",
       "      <th>2025-06-23</th>\n",
       "      <td>19.830000</td>\n",
       "      <td>22.510000</td>\n",
       "      <td>19.820000</td>\n",
       "      <td>21.150000</td>\n",
       "      <td>0</td>\n",
       "    </tr>\n",
       "    <tr>\n",
       "      <th>2025-06-24</th>\n",
       "      <td>17.480000</td>\n",
       "      <td>18.719999</td>\n",
       "      <td>17.330000</td>\n",
       "      <td>18.190001</td>\n",
       "      <td>0</td>\n",
       "    </tr>\n",
       "    <tr>\n",
       "      <th>2025-06-25</th>\n",
       "      <td>16.760000</td>\n",
       "      <td>17.510000</td>\n",
       "      <td>16.680000</td>\n",
       "      <td>17.280001</td>\n",
       "      <td>0</td>\n",
       "    </tr>\n",
       "    <tr>\n",
       "      <th>2025-06-26</th>\n",
       "      <td>16.590000</td>\n",
       "      <td>16.780001</td>\n",
       "      <td>16.110001</td>\n",
       "      <td>16.670000</td>\n",
       "      <td>0</td>\n",
       "    </tr>\n",
       "  </tbody>\n",
       "</table>\n",
       "<p>8937 rows × 5 columns</p>\n",
       "</div>"
      ],
      "text/plain": [
       "                Close       High        Low       Open  Volume\n",
       "Date                                                          \n",
       "1990-01-02  17.240000  17.240000  17.240000  17.240000       0\n",
       "1990-01-03  18.190001  18.190001  18.190001  18.190001       0\n",
       "1990-01-04  19.219999  19.219999  19.219999  19.219999       0\n",
       "1990-01-05  20.110001  20.110001  20.110001  20.110001       0\n",
       "1990-01-08  20.260000  20.260000  20.260000  20.260000       0\n",
       "...               ...        ...        ...        ...     ...\n",
       "2025-06-20  20.620001  21.070000  19.110001  20.740000       0\n",
       "2025-06-23  19.830000  22.510000  19.820000  21.150000       0\n",
       "2025-06-24  17.480000  18.719999  17.330000  18.190001       0\n",
       "2025-06-25  16.760000  17.510000  16.680000  17.280001       0\n",
       "2025-06-26  16.590000  16.780001  16.110001  16.670000       0\n",
       "\n",
       "[8937 rows x 5 columns]"
      ]
     },
     "execution_count": 5,
     "metadata": {},
     "output_type": "execute_result"
    }
   ],
   "source": [
    "yf_pull_data(\n",
    "    base_directory=DATA_DIR,\n",
    "    ticker=\"^VIX\",\n",
    "    source=\"Yahoo_Finance\", \n",
    "    asset_class=\"Indices\", \n",
    "    excel_export=True,\n",
    "    pickle_export=True,\n",
    "    output_confirmation=True,\n",
    ")"
   ]
  },
  {
   "cell_type": "code",
   "execution_count": 6,
   "id": "63f6a554",
   "metadata": {
    "execution": {
     "iopub.execute_input": "2025-06-28T19:43:13.902302Z",
     "iopub.status.busy": "2025-06-28T19:43:13.902151Z",
     "iopub.status.idle": "2025-06-28T19:43:13.904459Z",
     "shell.execute_reply": "2025-06-28T19:43:13.904024Z"
    }
   },
   "outputs": [],
   "source": [
    "# Copy this <!-- INSERT_01_VIX_Stats_By_Year_HERE --> to index_temp.md\n",
    "# export_track_md_deps(dep_file=dep_file, md_filename=\"01_VIX_Stats_By_Year.md\", content=vix_stats_by_year.to_markdown(floatfmt=\".2f\"))"
   ]
  },
  {
   "cell_type": "code",
   "execution_count": 7,
   "id": "c9fbb2ef",
   "metadata": {
    "execution": {
     "iopub.execute_input": "2025-06-28T19:43:13.905838Z",
     "iopub.status.busy": "2025-06-28T19:43:13.905663Z",
     "iopub.status.idle": "2025-06-28T19:43:13.907984Z",
     "shell.execute_reply": "2025-06-28T19:43:13.907529Z"
    }
   },
   "outputs": [],
   "source": [
    "# Copy this <!-- INSERT_02_VVIX_DF_Info_HERE --> to index_temp.md\n",
    "# export_track_md_deps(dep_file=dep_file, md_filename=\"02_VVIX_DF_Info.md\", content=df_info_markdown(vix))"
   ]
  },
  {
   "cell_type": "code",
   "execution_count": 8,
   "id": "a8ab4650",
   "metadata": {
    "execution": {
     "iopub.execute_input": "2025-06-28T19:43:13.909323Z",
     "iopub.status.busy": "2025-06-28T19:43:13.909187Z",
     "iopub.status.idle": "2025-06-28T19:43:13.911438Z",
     "shell.execute_reply": "2025-06-28T19:43:13.910993Z"
    }
   },
   "outputs": [],
   "source": [
    "# Copy this <!-- INSERT_11_Net_Profit_Percent_HERE --> to index_temp.md\n",
    "# export_track_md_deps(dep_file=dep_file, md_filename=\"11_Net_Profit_Percent.md\", content=net_profit_percent_str)"
   ]
  }
 ],
 "metadata": {
  "kernelspec": {
   "display_name": "general_313",
   "language": "python",
   "name": "python3"
  },
  "language_info": {
   "codemirror_mode": {
    "name": "ipython",
    "version": 3
   },
   "file_extension": ".py",
   "mimetype": "text/x-python",
   "name": "python",
   "nbconvert_exporter": "python",
   "pygments_lexer": "ipython3",
   "version": "3.13.3"
  }
 },
 "nbformat": 4,
 "nbformat_minor": 5
}
