{
 "cells": [
  {
   "cell_type": "markdown",
   "id": "307fa821",
   "metadata": {},
   "source": [
    "# Reusable And Extensible Python Functions For Financial Data Analysis"
   ]
  },
  {
   "cell_type": "markdown",
   "id": "547ce63e",
   "metadata": {},
   "source": [
    "## Python Imports"
   ]
  },
  {
   "cell_type": "code",
   "execution_count": 1,
   "id": "72a6dbc5",
   "metadata": {
    "execution": {
     "iopub.execute_input": "2025-05-27T04:36:13.944620Z",
     "iopub.status.busy": "2025-05-27T04:36:13.944389Z",
     "iopub.status.idle": "2025-05-27T04:36:15.614124Z",
     "shell.execute_reply": "2025-05-27T04:36:15.613495Z"
    }
   },
   "outputs": [],
   "source": [
    "# Standard Library\n",
    "import datetime\n",
    "import io\n",
    "import os\n",
    "import random\n",
    "import sys\n",
    "import warnings\n",
    "\n",
    "from datetime import datetime, timedelta\n",
    "from pathlib import Path\n",
    "\n",
    "# Data Handling\n",
    "import numpy as np\n",
    "import pandas as pd\n",
    "\n",
    "# Data Visualization\n",
    "import matplotlib.dates as mdates\n",
    "import matplotlib.pyplot as plt\n",
    "import matplotlib.ticker as mtick\n",
    "import seaborn as sns\n",
    "from matplotlib.ticker import FormatStrFormatter, FuncFormatter, MultipleLocator\n",
    "\n",
    "# Data Sources\n",
    "import yfinance as yf\n",
    "\n",
    "# Statistical Analysis\n",
    "import statsmodels.api as sm\n",
    "\n",
    "# Machine Learning\n",
    "from sklearn.decomposition import PCA\n",
    "from sklearn.preprocessing import StandardScaler\n",
    "\n",
    "# Suppress warnings\n",
    "warnings.filterwarnings(\"ignore\")"
   ]
  },
  {
   "cell_type": "markdown",
   "id": "b5d3911f",
   "metadata": {},
   "source": [
    "## Add Directories To Path"
   ]
  },
  {
   "cell_type": "code",
   "execution_count": 2,
   "id": "eaed08fd",
   "metadata": {
    "execution": {
     "iopub.execute_input": "2025-05-27T04:36:15.616448Z",
     "iopub.status.busy": "2025-05-27T04:36:15.616030Z",
     "iopub.status.idle": "2025-05-27T04:36:15.624125Z",
     "shell.execute_reply": "2025-05-27T04:36:15.623490Z"
    }
   },
   "outputs": [
    {
     "name": "stdout",
     "output_type": "stream",
     "text": [
      "0: /usr/lib/python313.zip\n",
      "1: /usr/lib/python3.13\n",
      "2: /usr/lib/python3.13/lib-dynload\n",
      "3: \n",
      "4: /home/jared/python-virtual-envs/general_313/lib/python3.13/site-packages\n",
      "5: /home/jared/Cloud_Storage/Dropbox/Websites/jaredszajkowski.github.io/src\n",
      "6: /home/jared/Cloud_Storage/Dropbox/Quant_Finance_Research\n",
      "7: /home/jared/Cloud_Storage/Dropbox/Quant_Finance_Research/src\n"
     ]
    }
   ],
   "source": [
    "# Add the source subdirectory to the system path to allow import config from settings.py\n",
    "current_directory = Path(os.getcwd())\n",
    "website_base_directory = current_directory.parent.parent.parent\n",
    "src_directory = website_base_directory / \"src\"\n",
    "sys.path.append(str(src_directory)) if str(src_directory) not in sys.path else None\n",
    "\n",
    "# Import settings.py\n",
    "from settings import config\n",
    "\n",
    "# Add configured directories from config to path\n",
    "SOURCE_DIR = config(\"SOURCE_DIR\")\n",
    "sys.path.append(str(Path(SOURCE_DIR))) if str(Path(SOURCE_DIR)) not in sys.path else None\n",
    "\n",
    "QUANT_FINANCE_RESEARCH_BASE_DIR = config(\"QUANT_FINANCE_RESEARCH_BASE_DIR\")\n",
    "sys.path.append(str(Path(QUANT_FINANCE_RESEARCH_BASE_DIR))) if str(Path(QUANT_FINANCE_RESEARCH_BASE_DIR)) not in sys.path else None\n",
    "\n",
    "QUANT_FINANCE_RESEARCH_SOURCE_DIR = config(\"QUANT_FINANCE_RESEARCH_SOURCE_DIR\")\n",
    "sys.path.append(str(Path(QUANT_FINANCE_RESEARCH_SOURCE_DIR))) if str(Path(QUANT_FINANCE_RESEARCH_SOURCE_DIR)) not in sys.path else None\n",
    "\n",
    "# Add other configured directories\n",
    "BASE_DIR = config(\"BASE_DIR\")\n",
    "CONTENT_DIR = config(\"CONTENT_DIR\")\n",
    "POSTS_DIR = config(\"POSTS_DIR\")\n",
    "PAGES_DIR = config(\"PAGES_DIR\")\n",
    "PUBLIC_DIR = config(\"PUBLIC_DIR\")\n",
    "SOURCE_DIR = config(\"SOURCE_DIR\")\n",
    "DATA_DIR = config(\"DATA_DIR\")\n",
    "DATA_MANUAL_DIR = config(\"DATA_MANUAL_DIR\")\n",
    "\n",
    "# Print system path\n",
    "for i, path in enumerate(sys.path):\n",
    "    print(f\"{i}: {path}\")"
   ]
  },
  {
   "cell_type": "markdown",
   "id": "bfcc2cb6",
   "metadata": {},
   "source": [
    "## Track Index Dependencies"
   ]
  },
  {
   "cell_type": "code",
   "execution_count": 3,
   "id": "273bf49c",
   "metadata": {
    "execution": {
     "iopub.execute_input": "2025-05-27T04:36:15.626798Z",
     "iopub.status.busy": "2025-05-27T04:36:15.626250Z",
     "iopub.status.idle": "2025-05-27T04:36:15.630636Z",
     "shell.execute_reply": "2025-05-27T04:36:15.629658Z"
    }
   },
   "outputs": [],
   "source": [
    "# Create file to track markdown dependencies\n",
    "dep_file = Path(\"index_dep.txt\")\n",
    "dep_file.write_text(\"\")\n",
    "\n",
    "from export_track_md_deps import export_track_md_deps\n"
   ]
  },
  {
   "cell_type": "markdown",
   "id": "cb0b2cef",
   "metadata": {},
   "source": [
    "## Python Functions"
   ]
  },
  {
   "cell_type": "markdown",
   "id": "14af2186",
   "metadata": {},
   "source": [
    "### Functions For Assembling/Processing Posts"
   ]
  },
  {
   "cell_type": "markdown",
   "id": "686323e5",
   "metadata": {},
   "source": [
    "#### build_index"
   ]
  },
  {
   "cell_type": "code",
   "execution_count": 4,
   "id": "03343637",
   "metadata": {
    "execution": {
     "iopub.execute_input": "2025-05-27T04:36:15.634667Z",
     "iopub.status.busy": "2025-05-27T04:36:15.634253Z",
     "iopub.status.idle": "2025-05-27T04:36:15.639557Z",
     "shell.execute_reply": "2025-05-27T04:36:15.638669Z"
    }
   },
   "outputs": [
    {
     "name": "stdout",
     "output_type": "stream",
     "text": [
      "✅ Exported and tracked: build_index.md\n"
     ]
    }
   ],
   "source": [
    "from build_index import build_index\n",
    "code = Path(SOURCE_DIR / \"build_index.py\").read_text()\n",
    "md_code_block = f\"```python\\n{code}\\n```\"\n",
    "# Copy this <!-- INSERT_build_index_HERE --> to index_temp.md\n",
    "export_track_md_deps(dep_file=dep_file, md_filename=\"build_index.md\", content=md_code_block)"
   ]
  },
  {
   "cell_type": "markdown",
   "id": "bec1cd91",
   "metadata": {},
   "source": [
    "#### export_track_md_deps"
   ]
  },
  {
   "cell_type": "code",
   "execution_count": 5,
   "id": "5c2198d9",
   "metadata": {
    "execution": {
     "iopub.execute_input": "2025-05-27T04:36:15.642904Z",
     "iopub.status.busy": "2025-05-27T04:36:15.642629Z",
     "iopub.status.idle": "2025-05-27T04:36:15.647892Z",
     "shell.execute_reply": "2025-05-27T04:36:15.647147Z"
    }
   },
   "outputs": [
    {
     "name": "stdout",
     "output_type": "stream",
     "text": [
      "✅ Exported and tracked: export_track_md_deps.md\n"
     ]
    }
   ],
   "source": [
    "from export_track_md_deps import export_track_md_deps\n",
    "code = Path(SOURCE_DIR / \"export_track_md_deps.py\").read_text()\n",
    "md_code_block = f\"```python\\n{code}\\n```\"\n",
    "# Copy this <!-- INSERT_export_track_md_deps_HERE --> to index_temp.md\n",
    "export_track_md_deps(dep_file=dep_file, md_filename=\"export_track_md_deps.md\", content=md_code_block)"
   ]
  },
  {
   "cell_type": "markdown",
   "id": "c31fb986",
   "metadata": {},
   "source": [
    "### Bloomberg Functions"
   ]
  },
  {
   "cell_type": "markdown",
   "id": "d484fba6",
   "metadata": {},
   "source": [
    "#### bb_clean_data"
   ]
  },
  {
   "cell_type": "code",
   "execution_count": 6,
   "id": "8db0f9f2",
   "metadata": {
    "execution": {
     "iopub.execute_input": "2025-05-27T04:36:15.650918Z",
     "iopub.status.busy": "2025-05-27T04:36:15.650283Z",
     "iopub.status.idle": "2025-05-27T04:36:15.656733Z",
     "shell.execute_reply": "2025-05-27T04:36:15.655999Z"
    }
   },
   "outputs": [
    {
     "name": "stdout",
     "output_type": "stream",
     "text": [
      "✅ Exported and tracked: bb_clean_data.md\n"
     ]
    }
   ],
   "source": [
    "from bb_clean_data import bb_clean_data\n",
    "code = Path(SOURCE_DIR / \"bb_clean_data.py\").read_text()\n",
    "md_code_block = f\"```python\\n{code}\\n```\"\n",
    "# Copy this <!-- INSERT_bb_clean_data_HERE --> to index_temp.md\n",
    "export_track_md_deps(dep_file=dep_file, md_filename=\"bb_clean_data.md\", content=md_code_block)"
   ]
  },
  {
   "cell_type": "markdown",
   "id": "a8ad117f",
   "metadata": {},
   "source": [
    "### Analysis Functions"
   ]
  },
  {
   "cell_type": "markdown",
   "id": "bb3e58dc",
   "metadata": {},
   "source": [
    "#### calc_vix_trade_pnl"
   ]
  },
  {
   "cell_type": "code",
   "execution_count": 7,
   "id": "459fd667",
   "metadata": {
    "execution": {
     "iopub.execute_input": "2025-05-27T04:36:15.659433Z",
     "iopub.status.busy": "2025-05-27T04:36:15.659124Z",
     "iopub.status.idle": "2025-05-27T04:36:15.665271Z",
     "shell.execute_reply": "2025-05-27T04:36:15.664529Z"
    }
   },
   "outputs": [
    {
     "name": "stdout",
     "output_type": "stream",
     "text": [
      "✅ Exported and tracked: calc_vix_trade_pnl.md\n"
     ]
    }
   ],
   "source": [
    "from calc_vix_trade_pnl import calc_vix_trade_pnl\n",
    "code = Path(SOURCE_DIR / \"calc_vix_trade_pnl.py\").read_text()\n",
    "md_code_block = f\"```python\\n{code}\\n```\"\n",
    "# Copy this <!-- INSERT_calc_vix_trade_pnl_HERE --> to index_temp.md\n",
    "export_track_md_deps(dep_file=dep_file, md_filename=\"calc_vix_trade_pnl.md\", content=md_code_block)"
   ]
  },
  {
   "cell_type": "code",
   "execution_count": null,
   "id": "03276c63",
   "metadata": {},
   "outputs": [],
   "source": []
  }
 ],
 "metadata": {
  "kernelspec": {
   "display_name": "general_313",
   "language": "python",
   "name": "python3"
  },
  "language_info": {
   "codemirror_mode": {
    "name": "ipython",
    "version": 3
   },
   "file_extension": ".py",
   "mimetype": "text/x-python",
   "name": "python",
   "nbconvert_exporter": "python",
   "pygments_lexer": "ipython3",
   "version": "3.13.3"
  }
 },
 "nbformat": 4,
 "nbformat_minor": 5
}
