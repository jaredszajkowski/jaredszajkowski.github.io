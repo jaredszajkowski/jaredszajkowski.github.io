{
 "cells": [
  {
   "cell_type": "markdown",
   "id": "307fa821",
   "metadata": {},
   "source": [
    "# Reusable And Extensible Python Functions For Financial Data Analysis"
   ]
  },
  {
   "cell_type": "markdown",
   "id": "547ce63e",
   "metadata": {},
   "source": [
    "## Python Imports"
   ]
  },
  {
   "cell_type": "code",
   "execution_count": 1,
   "id": "72a6dbc5",
   "metadata": {
    "execution": {
     "iopub.execute_input": "2025-10-08T11:34:47.526071Z",
     "iopub.status.busy": "2025-10-08T11:34:47.525841Z",
     "iopub.status.idle": "2025-10-08T11:34:49.039622Z",
     "shell.execute_reply": "2025-10-08T11:34:49.039102Z"
    }
   },
   "outputs": [],
   "source": [
    "# Standard Library\n",
    "import datetime\n",
    "import io\n",
    "import os\n",
    "import random\n",
    "import sys\n",
    "import warnings\n",
    "\n",
    "from datetime import datetime, timedelta\n",
    "from pathlib import Path\n",
    "\n",
    "# Data Handling\n",
    "import numpy as np\n",
    "import pandas as pd\n",
    "\n",
    "# Data Visualization\n",
    "import matplotlib.dates as mdates\n",
    "import matplotlib.pyplot as plt\n",
    "import matplotlib.ticker as mtick\n",
    "import seaborn as sns\n",
    "from matplotlib.ticker import FormatStrFormatter, FuncFormatter, MultipleLocator\n",
    "\n",
    "# Data Sources\n",
    "import yfinance as yf\n",
    "\n",
    "# Statistical Analysis\n",
    "import statsmodels.api as sm\n",
    "\n",
    "# Machine Learning\n",
    "from sklearn.decomposition import PCA\n",
    "from sklearn.preprocessing import StandardScaler\n",
    "\n",
    "# Suppress warnings\n",
    "warnings.filterwarnings(\"ignore\")"
   ]
  },
  {
   "cell_type": "markdown",
   "id": "b5d3911f",
   "metadata": {},
   "source": [
    "## Add Directories To Path"
   ]
  },
  {
   "cell_type": "code",
   "execution_count": 2,
   "id": "eaed08fd",
   "metadata": {
    "execution": {
     "iopub.execute_input": "2025-10-08T11:34:49.041443Z",
     "iopub.status.busy": "2025-10-08T11:34:49.041172Z",
     "iopub.status.idle": "2025-10-08T11:34:49.046845Z",
     "shell.execute_reply": "2025-10-08T11:34:49.046442Z"
    }
   },
   "outputs": [
    {
     "name": "stdout",
     "output_type": "stream",
     "text": [
      "0: /usr/lib/python313.zip\n",
      "1: /usr/lib/python3.13\n",
      "2: /usr/lib/python3.13/lib-dynload\n",
      "3: \n",
      "4: /home/jared/python-virtual-envs/general_313/lib/python3.13/site-packages\n",
      "5: /home/jared/Cloud_Storage/Dropbox/Websites/jaredszajkowski.github.io/src\n"
     ]
    }
   ],
   "source": [
    "# Add the source subdirectory to the system path to allow import config from settings.py\n",
    "current_directory = Path(os.getcwd())\n",
    "website_base_directory = current_directory.parent.parent.parent\n",
    "src_directory = website_base_directory / \"src\"\n",
    "sys.path.append(str(src_directory)) if str(src_directory) not in sys.path else None\n",
    "\n",
    "# Import settings.py\n",
    "from settings import config\n",
    "\n",
    "# Add configured directories from config to path\n",
    "SOURCE_DIR = config(\"SOURCE_DIR\")\n",
    "sys.path.append(str(Path(SOURCE_DIR))) if str(Path(SOURCE_DIR)) not in sys.path else None\n",
    "\n",
    "# Add other configured directories\n",
    "BASE_DIR = config(\"BASE_DIR\")\n",
    "CONTENT_DIR = config(\"CONTENT_DIR\")\n",
    "POSTS_DIR = config(\"POSTS_DIR\")\n",
    "PAGES_DIR = config(\"PAGES_DIR\")\n",
    "PUBLIC_DIR = config(\"PUBLIC_DIR\")\n",
    "SOURCE_DIR = config(\"SOURCE_DIR\")\n",
    "DATA_DIR = config(\"DATA_DIR\")\n",
    "DATA_MANUAL_DIR = config(\"DATA_MANUAL_DIR\")\n",
    "\n",
    "# Print system path\n",
    "for i, path in enumerate(sys.path):\n",
    "    print(f\"{i}: {path}\")"
   ]
  },
  {
   "cell_type": "markdown",
   "id": "bfcc2cb6",
   "metadata": {},
   "source": [
    "## Track Index Dependencies"
   ]
  },
  {
   "cell_type": "code",
   "execution_count": 3,
   "id": "273bf49c",
   "metadata": {
    "execution": {
     "iopub.execute_input": "2025-10-08T11:34:49.048350Z",
     "iopub.status.busy": "2025-10-08T11:34:49.048205Z",
     "iopub.status.idle": "2025-10-08T11:34:49.053844Z",
     "shell.execute_reply": "2025-10-08T11:34:49.053358Z"
    }
   },
   "outputs": [
    {
     "data": {
      "text/plain": [
       "0"
      ]
     },
     "execution_count": 3,
     "metadata": {},
     "output_type": "execute_result"
    }
   ],
   "source": [
    "# Create file to track markdown dependencies\n",
    "dep_file = Path(\"index_dep.txt\")\n",
    "dep_file.write_text(\"\")"
   ]
  },
  {
   "cell_type": "markdown",
   "id": "cb0b2cef",
   "metadata": {},
   "source": [
    "## Python Functions"
   ]
  },
  {
   "cell_type": "code",
   "execution_count": 4,
   "id": "4dc8e0a6",
   "metadata": {
    "execution": {
     "iopub.execute_input": "2025-10-08T11:34:49.055482Z",
     "iopub.status.busy": "2025-10-08T11:34:49.055326Z",
     "iopub.status.idle": "2025-10-08T11:34:49.058665Z",
     "shell.execute_reply": "2025-10-08T11:34:49.058200Z"
    }
   },
   "outputs": [],
   "source": [
    "from export_track_md_deps import export_track_md_deps"
   ]
  },
  {
   "cell_type": "code",
   "execution_count": 5,
   "id": "7e12cbc9",
   "metadata": {
    "execution": {
     "iopub.execute_input": "2025-10-08T11:34:49.060266Z",
     "iopub.status.busy": "2025-10-08T11:34:49.060064Z",
     "iopub.status.idle": "2025-10-08T11:34:49.064373Z",
     "shell.execute_reply": "2025-10-08T11:34:49.063790Z"
    }
   },
   "outputs": [
    {
     "name": "stdout",
     "output_type": "stream",
     "text": [
      "✅ Exported and tracked: bb_clean_data.md\n"
     ]
    }
   ],
   "source": [
    "from bb_clean_data import bb_clean_data\n",
    "code = Path(SOURCE_DIR / \"bb_clean_data.py\").read_text()\n",
    "md_code_block = f\"```python\\n{code}\\n```\"\n",
    "# Copy this <!-- INSERT_bb_clean_data_HERE --> to index_temp.md\n",
    "export_track_md_deps(dep_file=dep_file, md_filename=\"bb_clean_data.md\", content=md_code_block)"
   ]
  },
  {
   "cell_type": "code",
   "execution_count": 6,
   "id": "03343637",
   "metadata": {
    "execution": {
     "iopub.execute_input": "2025-10-08T11:34:49.066728Z",
     "iopub.status.busy": "2025-10-08T11:34:49.066187Z",
     "iopub.status.idle": "2025-10-08T11:34:49.071286Z",
     "shell.execute_reply": "2025-10-08T11:34:49.070535Z"
    }
   },
   "outputs": [
    {
     "name": "stdout",
     "output_type": "stream",
     "text": [
      "✅ Exported and tracked: build_index.md\n"
     ]
    }
   ],
   "source": [
    "from build_index import build_index\n",
    "code = Path(SOURCE_DIR / \"build_index.py\").read_text()\n",
    "md_code_block = f\"```python\\n{code}\\n```\"\n",
    "# Copy this <!-- INSERT_build_index_HERE --> to index_temp.md\n",
    "export_track_md_deps(dep_file=dep_file, md_filename=\"build_index.md\", content=md_code_block)"
   ]
  },
  {
   "cell_type": "code",
   "execution_count": 7,
   "id": "ff53c720",
   "metadata": {
    "execution": {
     "iopub.execute_input": "2025-10-08T11:34:49.073912Z",
     "iopub.status.busy": "2025-10-08T11:34:49.073384Z",
     "iopub.status.idle": "2025-10-08T11:34:49.077726Z",
     "shell.execute_reply": "2025-10-08T11:34:49.077212Z"
    }
   },
   "outputs": [
    {
     "name": "stdout",
     "output_type": "stream",
     "text": [
      "✅ Exported and tracked: calc_vix_trade_pnl.md\n"
     ]
    }
   ],
   "source": [
    "from calc_vix_trade_pnl import calc_vix_trade_pnl\n",
    "code = Path(SOURCE_DIR / \"calc_vix_trade_pnl.py\").read_text()\n",
    "md_code_block = f\"```python\\n{code}\\n```\"\n",
    "# Copy this <!-- INSERT_calc_vix_trade_pnl_HERE --> to index_temp.md\n",
    "export_track_md_deps(dep_file=dep_file, md_filename=\"calc_vix_trade_pnl.md\", content=md_code_block)"
   ]
  },
  {
   "cell_type": "code",
   "execution_count": 8,
   "id": "f947c472",
   "metadata": {
    "execution": {
     "iopub.execute_input": "2025-10-08T11:34:49.080109Z",
     "iopub.status.busy": "2025-10-08T11:34:49.079565Z",
     "iopub.status.idle": "2025-10-08T11:34:49.084669Z",
     "shell.execute_reply": "2025-10-08T11:34:49.083960Z"
    }
   },
   "outputs": [
    {
     "name": "stdout",
     "output_type": "stream",
     "text": [
      "✅ Exported and tracked: coinbase_fetch_available_products.md\n"
     ]
    }
   ],
   "source": [
    "from coinbase_fetch_available_products import coinbase_fetch_available_products\n",
    "code = Path(SOURCE_DIR / \"coinbase_fetch_available_products.py\").read_text()\n",
    "md_code_block = f\"```python\\n{code}\\n```\"\n",
    "# Copy this <!-- INSERT_coinbase_fetch_available_products_HERE --> to index_temp.md\n",
    "export_track_md_deps(dep_file=dep_file, md_filename=\"coinbase_fetch_available_products.md\", content=md_code_block)"
   ]
  },
  {
   "cell_type": "code",
   "execution_count": 9,
   "id": "acaf1340",
   "metadata": {
    "execution": {
     "iopub.execute_input": "2025-10-08T11:34:49.087124Z",
     "iopub.status.busy": "2025-10-08T11:34:49.086585Z",
     "iopub.status.idle": "2025-10-08T11:34:49.091766Z",
     "shell.execute_reply": "2025-10-08T11:34:49.091224Z"
    }
   },
   "outputs": [
    {
     "name": "stdout",
     "output_type": "stream",
     "text": [
      "✅ Exported and tracked: coinbase_fetch_full_history.md\n"
     ]
    }
   ],
   "source": [
    "from coinbase_fetch_full_history import coinbase_fetch_full_history\n",
    "code = Path(SOURCE_DIR / \"coinbase_fetch_full_history.py\").read_text()\n",
    "md_code_block = f\"```python\\n{code}\\n```\"\n",
    "# Copy this <!-- INSERT_coinbase_fetch_full_history_HERE --> to index_temp.md\n",
    "export_track_md_deps(dep_file=dep_file, md_filename=\"coinbase_fetch_full_history.md\", content=md_code_block)"
   ]
  },
  {
   "cell_type": "code",
   "execution_count": 10,
   "id": "95ac9b71",
   "metadata": {
    "execution": {
     "iopub.execute_input": "2025-10-08T11:34:49.094120Z",
     "iopub.status.busy": "2025-10-08T11:34:49.093792Z",
     "iopub.status.idle": "2025-10-08T11:34:49.101044Z",
     "shell.execute_reply": "2025-10-08T11:34:49.100448Z"
    }
   },
   "outputs": [
    {
     "name": "stdout",
     "output_type": "stream",
     "text": [
      "✅ Exported and tracked: coinbase_fetch_historical_candles.md\n"
     ]
    }
   ],
   "source": [
    "from coinbase_fetch_historical_candles import coinbase_fetch_historical_candles\n",
    "code = Path(SOURCE_DIR / \"coinbase_fetch_historical_candles.py\").read_text()\n",
    "md_code_block = f\"```python\\n{code}\\n```\"\n",
    "# Copy this <!-- INSERT_coinbase_fetch_historical_candles_HERE --> to index_temp.md\n",
    "export_track_md_deps(dep_file=dep_file, md_filename=\"coinbase_fetch_historical_candles.md\", content=md_code_block)"
   ]
  },
  {
   "cell_type": "code",
   "execution_count": 11,
   "id": "9ff3771f",
   "metadata": {
    "execution": {
     "iopub.execute_input": "2025-10-08T11:34:49.106041Z",
     "iopub.status.busy": "2025-10-08T11:34:49.105610Z",
     "iopub.status.idle": "2025-10-08T11:34:49.110302Z",
     "shell.execute_reply": "2025-10-08T11:34:49.109778Z"
    }
   },
   "outputs": [
    {
     "name": "stdout",
     "output_type": "stream",
     "text": [
      "✅ Exported and tracked: coinbase_pull_data.md\n"
     ]
    }
   ],
   "source": [
    "from coinbase_pull_data import coinbase_pull_data\n",
    "code = Path(SOURCE_DIR / \"coinbase_pull_data.py\").read_text()\n",
    "md_code_block = f\"```python\\n{code}\\n```\"\n",
    "# Copy this <!-- INSERT_coinbase_pull_data_HERE --> to index_temp.md\n",
    "export_track_md_deps(dep_file=dep_file, md_filename=\"coinbase_pull_data.md\", content=md_code_block)"
   ]
  },
  {
   "cell_type": "code",
   "execution_count": 12,
   "id": "c2f67f0d",
   "metadata": {
    "execution": {
     "iopub.execute_input": "2025-10-08T11:34:49.112684Z",
     "iopub.status.busy": "2025-10-08T11:34:49.112201Z",
     "iopub.status.idle": "2025-10-08T11:34:49.117134Z",
     "shell.execute_reply": "2025-10-08T11:34:49.116478Z"
    }
   },
   "outputs": [
    {
     "name": "stdout",
     "output_type": "stream",
     "text": [
      "✅ Exported and tracked: df_info.md\n"
     ]
    }
   ],
   "source": [
    "from df_info import df_info\n",
    "code = Path(SOURCE_DIR / \"df_info.py\").read_text()\n",
    "md_code_block = f\"```python\\n{code}\\n```\"\n",
    "# Copy this <!-- INSERT_df_info_HERE --> to index_temp.md\n",
    "export_track_md_deps(dep_file=dep_file, md_filename=\"df_info.md\", content=md_code_block)"
   ]
  },
  {
   "cell_type": "code",
   "execution_count": 13,
   "id": "ce9e3f12",
   "metadata": {
    "execution": {
     "iopub.execute_input": "2025-10-08T11:34:49.120025Z",
     "iopub.status.busy": "2025-10-08T11:34:49.119620Z",
     "iopub.status.idle": "2025-10-08T11:34:49.124358Z",
     "shell.execute_reply": "2025-10-08T11:34:49.123738Z"
    }
   },
   "outputs": [
    {
     "name": "stdout",
     "output_type": "stream",
     "text": [
      "✅ Exported and tracked: df_info_markdown.md\n"
     ]
    }
   ],
   "source": [
    "from df_info_markdown import df_info_markdown\n",
    "code = Path(SOURCE_DIR / \"df_info_markdown.py\").read_text()\n",
    "md_code_block = f\"```python\\n{code}\\n```\"\n",
    "# Copy this <!-- INSERT_df_info_markdown_HERE --> to index_temp.md\n",
    "export_track_md_deps(dep_file=dep_file, md_filename=\"df_info_markdown.md\", content=md_code_block)"
   ]
  },
  {
   "cell_type": "code",
   "execution_count": 14,
   "id": "5c2198d9",
   "metadata": {
    "execution": {
     "iopub.execute_input": "2025-10-08T11:34:49.126979Z",
     "iopub.status.busy": "2025-10-08T11:34:49.126658Z",
     "iopub.status.idle": "2025-10-08T11:34:49.131348Z",
     "shell.execute_reply": "2025-10-08T11:34:49.130787Z"
    }
   },
   "outputs": [
    {
     "name": "stdout",
     "output_type": "stream",
     "text": [
      "✅ Exported and tracked: export_track_md_deps.md\n"
     ]
    }
   ],
   "source": [
    "from export_track_md_deps import export_track_md_deps\n",
    "code = Path(SOURCE_DIR / \"export_track_md_deps.py\").read_text()\n",
    "md_code_block = f\"```python\\n{code}\\n```\"\n",
    "# Copy this <!-- INSERT_export_track_md_deps_HERE --> to index_temp.md\n",
    "export_track_md_deps(dep_file=dep_file, md_filename=\"export_track_md_deps.md\", content=md_code_block)"
   ]
  },
  {
   "cell_type": "code",
   "execution_count": 15,
   "id": "fe0f4271",
   "metadata": {
    "execution": {
     "iopub.execute_input": "2025-10-08T11:34:49.133464Z",
     "iopub.status.busy": "2025-10-08T11:34:49.133241Z",
     "iopub.status.idle": "2025-10-08T11:34:49.141246Z",
     "shell.execute_reply": "2025-10-08T11:34:49.140683Z"
    }
   },
   "outputs": [
    {
     "name": "stdout",
     "output_type": "stream",
     "text": [
      "✅ Exported and tracked: load_api_keys.md\n"
     ]
    }
   ],
   "source": [
    "from load_api_keys import load_api_keys\n",
    "code = Path(SOURCE_DIR / \"load_api_keys.py\").read_text()\n",
    "md_code_block = f\"```python\\n{code}\\n```\"\n",
    "# Copy this <!-- INSERT_load_api_keys_HERE --> to index_temp.md\n",
    "export_track_md_deps(dep_file=dep_file, md_filename=\"load_api_keys.md\", content=md_code_block)"
   ]
  },
  {
   "cell_type": "code",
   "execution_count": 16,
   "id": "03276c63",
   "metadata": {
    "execution": {
     "iopub.execute_input": "2025-10-08T11:34:49.143713Z",
     "iopub.status.busy": "2025-10-08T11:34:49.143314Z",
     "iopub.status.idle": "2025-10-08T11:34:49.149173Z",
     "shell.execute_reply": "2025-10-08T11:34:49.148541Z"
    }
   },
   "outputs": [
    {
     "name": "stdout",
     "output_type": "stream",
     "text": [
      "✅ Exported and tracked: load_data.md\n"
     ]
    }
   ],
   "source": [
    "from load_data import load_data\n",
    "code = Path(SOURCE_DIR / \"load_data.py\").read_text()\n",
    "md_code_block = f\"```python\\n{code}\\n```\"\n",
    "# Copy this <!-- INSERT_load_data_HERE --> to index_temp.md\n",
    "export_track_md_deps(dep_file=dep_file, md_filename=\"load_data.md\", content=md_code_block)"
   ]
  },
  {
   "cell_type": "code",
   "execution_count": 17,
   "id": "687f7289",
   "metadata": {
    "execution": {
     "iopub.execute_input": "2025-10-08T11:34:49.151246Z",
     "iopub.status.busy": "2025-10-08T11:34:49.151033Z",
     "iopub.status.idle": "2025-10-08T11:34:49.155431Z",
     "shell.execute_reply": "2025-10-08T11:34:49.154909Z"
    }
   },
   "outputs": [
    {
     "name": "stdout",
     "output_type": "stream",
     "text": [
      "✅ Exported and tracked: pandas_set_decimal_places.md\n"
     ]
    }
   ],
   "source": [
    "from pandas_set_decimal_places import pandas_set_decimal_places\n",
    "code = Path(SOURCE_DIR / \"pandas_set_decimal_places.py\").read_text()\n",
    "md_code_block = f\"```python\\n{code}\\n```\"\n",
    "# Copy this <!-- INSERT_pandas_set_decimal_places_HERE --> to index_temp.md\n",
    "export_track_md_deps(dep_file=dep_file, md_filename=\"pandas_set_decimal_places.md\", content=md_code_block)"
   ]
  },
  {
   "cell_type": "code",
   "execution_count": 18,
   "id": "cb00f66a",
   "metadata": {
    "execution": {
     "iopub.execute_input": "2025-10-08T11:34:49.157840Z",
     "iopub.status.busy": "2025-10-08T11:34:49.157457Z",
     "iopub.status.idle": "2025-10-08T11:34:49.162436Z",
     "shell.execute_reply": "2025-10-08T11:34:49.161779Z"
    }
   },
   "outputs": [
    {
     "name": "stdout",
     "output_type": "stream",
     "text": [
      "✅ Exported and tracked: plot_price.md\n"
     ]
    }
   ],
   "source": [
    "from plot_price import plot_price\n",
    "code = Path(SOURCE_DIR / \"plot_price.py\").read_text()\n",
    "md_code_block = f\"```python\\n{code}\\n```\"\n",
    "# Copy this <!-- INSERT_plot_price_HERE --> to index_temp.md\n",
    "export_track_md_deps(dep_file=dep_file, md_filename=\"plot_price.md\", content=md_code_block)"
   ]
  },
  {
   "cell_type": "code",
   "execution_count": 19,
   "id": "cc18f22b",
   "metadata": {
    "execution": {
     "iopub.execute_input": "2025-10-08T11:34:49.164851Z",
     "iopub.status.busy": "2025-10-08T11:34:49.164531Z",
     "iopub.status.idle": "2025-10-08T11:34:49.169480Z",
     "shell.execute_reply": "2025-10-08T11:34:49.168889Z"
    }
   },
   "outputs": [
    {
     "name": "stdout",
     "output_type": "stream",
     "text": [
      "✅ Exported and tracked: plot_stats.md\n"
     ]
    }
   ],
   "source": [
    "from plot_stats import plot_stats\n",
    "code = Path(SOURCE_DIR / \"plot_stats.py\").read_text()\n",
    "md_code_block = f\"```python\\n{code}\\n```\"\n",
    "# Copy this <!-- INSERT_plot_stats_HERE --> to index_temp.md\n",
    "export_track_md_deps(dep_file=dep_file, md_filename=\"plot_stats.md\", content=md_code_block)"
   ]
  },
  {
   "cell_type": "code",
   "execution_count": 20,
   "id": "e85c782e",
   "metadata": {
    "execution": {
     "iopub.execute_input": "2025-10-08T11:34:49.175267Z",
     "iopub.status.busy": "2025-10-08T11:34:49.174938Z",
     "iopub.status.idle": "2025-10-08T11:34:49.180976Z",
     "shell.execute_reply": "2025-10-08T11:34:49.179399Z"
    }
   },
   "outputs": [
    {
     "name": "stdout",
     "output_type": "stream",
     "text": [
      "✅ Exported and tracked: plot_vix_with_trades.md\n"
     ]
    }
   ],
   "source": [
    "from plot_vix_with_trades import plot_vix_with_trades\n",
    "code = Path(SOURCE_DIR / \"plot_vix_with_trades.py\").read_text()\n",
    "md_code_block = f\"```python\\n{code}\\n```\"\n",
    "# Copy this <!-- INSERT_plot_vix_with_trades_HERE --> to index_temp.md\n",
    "export_track_md_deps(dep_file=dep_file, md_filename=\"plot_vix_with_trades.md\", content=md_code_block)"
   ]
  },
  {
   "cell_type": "code",
   "execution_count": 21,
   "id": "8c09377d",
   "metadata": {
    "execution": {
     "iopub.execute_input": "2025-10-08T11:34:49.183638Z",
     "iopub.status.busy": "2025-10-08T11:34:49.183130Z",
     "iopub.status.idle": "2025-10-08T11:34:49.260579Z",
     "shell.execute_reply": "2025-10-08T11:34:49.259960Z"
    }
   },
   "outputs": [
    {
     "name": "stdout",
     "output_type": "stream",
     "text": [
      "✅ Exported and tracked: polygon_fetch_full_history.md\n"
     ]
    }
   ],
   "source": [
    "from polygon_fetch_full_history import polygon_fetch_full_history\n",
    "code = Path(SOURCE_DIR / \"polygon_fetch_full_history.py\").read_text()\n",
    "md_code_block = f\"```python\\n{code}\\n```\"\n",
    "# Copy this <!-- INSERT_polygon_fetch_full_history_HERE --> to index_temp.md\n",
    "export_track_md_deps(dep_file=dep_file, md_filename=\"polygon_fetch_full_history.md\", content=md_code_block)"
   ]
  },
  {
   "cell_type": "code",
   "execution_count": 22,
   "id": "933c3131",
   "metadata": {
    "execution": {
     "iopub.execute_input": "2025-10-08T11:34:49.262783Z",
     "iopub.status.busy": "2025-10-08T11:34:49.262520Z",
     "iopub.status.idle": "2025-10-08T11:34:49.269824Z",
     "shell.execute_reply": "2025-10-08T11:34:49.269172Z"
    }
   },
   "outputs": [
    {
     "name": "stdout",
     "output_type": "stream",
     "text": [
      "✅ Exported and tracked: polygon_pull_data.md\n"
     ]
    }
   ],
   "source": [
    "from polygon_pull_data import polygon_pull_data\n",
    "code = Path(SOURCE_DIR / \"polygon_pull_data.py\").read_text()\n",
    "md_code_block = f\"```python\\n{code}\\n```\"\n",
    "# Copy this <!-- INSERT_polygon_pull_data_HERE --> to index_temp.md\n",
    "export_track_md_deps(dep_file=dep_file, md_filename=\"polygon_pull_data.md\", content=md_code_block)"
   ]
  },
  {
   "cell_type": "code",
   "execution_count": 23,
   "id": "6f5bf2e3",
   "metadata": {
    "execution": {
     "iopub.execute_input": "2025-10-08T11:34:49.274839Z",
     "iopub.status.busy": "2025-10-08T11:34:49.274466Z",
     "iopub.status.idle": "2025-10-08T11:34:49.279175Z",
     "shell.execute_reply": "2025-10-08T11:34:49.278134Z"
    }
   },
   "outputs": [
    {
     "name": "stdout",
     "output_type": "stream",
     "text": [
      "✅ Exported and tracked: strategy_harry_brown_perm_port.md\n"
     ]
    }
   ],
   "source": [
    "from strategy_harry_brown_perm_port import strategy_harry_brown_perm_port\n",
    "code = Path(SOURCE_DIR / \"strategy_harry_brown_perm_port.py\").read_text()\n",
    "md_code_block = f\"```python\\n{code}\\n```\"\n",
    "# Copy this <!-- INSERT_strategy_harry_brown_perm_port_HERE --> to index_temp.md\n",
    "export_track_md_deps(dep_file=dep_file, md_filename=\"strategy_harry_brown_perm_port.md\", content=md_code_block)"
   ]
  },
  {
   "cell_type": "code",
   "execution_count": 24,
   "id": "855036ed",
   "metadata": {
    "execution": {
     "iopub.execute_input": "2025-10-08T11:34:49.282028Z",
     "iopub.status.busy": "2025-10-08T11:34:49.281526Z",
     "iopub.status.idle": "2025-10-08T11:34:49.288193Z",
     "shell.execute_reply": "2025-10-08T11:34:49.287679Z"
    }
   },
   "outputs": [
    {
     "name": "stdout",
     "output_type": "stream",
     "text": [
      "✅ Exported and tracked: summary_stats.md\n"
     ]
    }
   ],
   "source": [
    "from summary_stats import summary_stats\n",
    "code = Path(SOURCE_DIR / \"summary_stats.py\").read_text()\n",
    "md_code_block = f\"```python\\n{code}\\n```\"\n",
    "# Copy this <!-- INSERT_summary_stats_HERE --> to index_temp.md\n",
    "export_track_md_deps(dep_file=dep_file, md_filename=\"summary_stats.md\", content=md_code_block)"
   ]
  },
  {
   "cell_type": "code",
   "execution_count": 25,
   "id": "00e83536",
   "metadata": {
    "execution": {
     "iopub.execute_input": "2025-10-08T11:34:49.290371Z",
     "iopub.status.busy": "2025-10-08T11:34:49.290026Z",
     "iopub.status.idle": "2025-10-08T11:34:49.297146Z",
     "shell.execute_reply": "2025-10-08T11:34:49.293695Z"
    }
   },
   "outputs": [
    {
     "name": "stdout",
     "output_type": "stream",
     "text": [
      "✅ Exported and tracked: yf_pull_data.md\n"
     ]
    }
   ],
   "source": [
    "from yf_pull_data import yf_pull_data\n",
    "code = Path(SOURCE_DIR / \"yf_pull_data.py\").read_text()\n",
    "md_code_block = f\"```python\\n{code}\\n```\"\n",
    "# Copy this <!-- INSERT_yf_pull_data_HERE --> to index_temp.md\n",
    "export_track_md_deps(dep_file=dep_file, md_filename=\"yf_pull_data.md\", content=md_code_block)"
   ]
  }
 ],
 "metadata": {
  "kernelspec": {
   "display_name": "general_313",
   "language": "python",
   "name": "python3"
  },
  "language_info": {
   "codemirror_mode": {
    "name": "ipython",
    "version": 3
   },
   "file_extension": ".py",
   "mimetype": "text/x-python",
   "name": "python",
   "nbconvert_exporter": "python",
   "pygments_lexer": "ipython3",
   "version": "3.13.7"
  }
 },
 "nbformat": 4,
 "nbformat_minor": 5
}
